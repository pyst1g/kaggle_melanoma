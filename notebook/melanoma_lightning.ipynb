{
 "cells": [
  {
   "cell_type": "code",
   "execution_count": 1,
   "metadata": {
    "ExecuteTime": {
     "end_time": "2020-07-31T02:02:15.163369Z",
     "start_time": "2020-07-31T02:02:13.796087Z"
    }
   },
   "outputs": [],
   "source": [
    "import os\n",
    "import sys\n",
    "import warnings\n",
    "\n",
    "import albumentations as A\n",
    "import cv2\n",
    "import matplotlib.pyplot as plt\n",
    "import numpy as np\n",
    "import pandas as pd\n",
    "import pytorch_lightning as pl\n",
    "import scipy\n",
    "import seaborn as sns\n",
    "import torch\n",
    "from albumentations.pytorch.transforms import ToTensorV2\n",
    "# from packages.lpproj_LPP import LocalityPreservingProjection\n",
    "from lpproj import LocalityPreservingProjection\n",
    "from pytorch_lightning.callbacks import EarlyStopping, ModelCheckpoint\n",
    "from pytorchcv.model_provider import get_model as ptcv_get_model\n",
    "# from utils import *\n",
    "from scipy import linalg\n",
    "from sklearn.metrics import log_loss, roc_auc_score\n",
    "from torch import nn\n",
    "from torch.nn import functional as F\n",
    "from torch.utils.data import DataLoader, Dataset, random_split\n",
    "from torchvision import datasets, models, transforms\n",
    "from torchvision.datasets import MNIST\n",
    "\n",
    "sys.path.append('../scripts')\n",
    "\n",
    "warnings.filterwarnings('ignore')"
   ]
  },
  {
   "cell_type": "markdown",
   "metadata": {},
   "source": [
    "#### variable"
   ]
  },
  {
   "cell_type": "code",
   "execution_count": 2,
   "metadata": {
    "ExecuteTime": {
     "end_time": "2020-07-31T02:02:15.167028Z",
     "start_time": "2020-07-31T02:02:15.164664Z"
    }
   },
   "outputs": [],
   "source": [
    "fold_number = 0\n",
    "batch_size = 64"
   ]
  },
  {
   "cell_type": "markdown",
   "metadata": {
    "ExecuteTime": {
     "end_time": "2020-07-30T02:11:44.633458Z",
     "start_time": "2020-07-30T02:11:44.629071Z"
    }
   },
   "source": [
    "#### data load "
   ]
  },
  {
   "cell_type": "code",
   "execution_count": 3,
   "metadata": {
    "ExecuteTime": {
     "end_time": "2020-07-31T02:02:15.532298Z",
     "start_time": "2020-07-31T02:02:15.168595Z"
    }
   },
   "outputs": [
    {
     "data": {
      "text/html": [
       "<div>\n",
       "<style scoped>\n",
       "    .dataframe tbody tr th:only-of-type {\n",
       "        vertical-align: middle;\n",
       "    }\n",
       "\n",
       "    .dataframe tbody tr th {\n",
       "        vertical-align: top;\n",
       "    }\n",
       "\n",
       "    .dataframe thead th {\n",
       "        text-align: right;\n",
       "    }\n",
       "</style>\n",
       "<table border=\"1\" class=\"dataframe\">\n",
       "  <thead>\n",
       "    <tr style=\"text-align: right;\">\n",
       "      <th>fold</th>\n",
       "      <th>-1</th>\n",
       "      <th>0</th>\n",
       "      <th>1</th>\n",
       "      <th>2</th>\n",
       "    </tr>\n",
       "  </thead>\n",
       "  <tbody>\n",
       "    <tr>\n",
       "      <th>ratio</th>\n",
       "      <td>0.006912</td>\n",
       "      <td>0.017692</td>\n",
       "      <td>0.017747</td>\n",
       "      <td>0.017877</td>\n",
       "    </tr>\n",
       "  </tbody>\n",
       "</table>\n",
       "</div>"
      ],
      "text/plain": [
       "fold         -1         0         1         2\n",
       "ratio  0.006912  0.017692  0.017747  0.017877"
      ]
     },
     "execution_count": 3,
     "metadata": {},
     "output_type": "execute_result"
    },
    {
     "data": {
      "image/png": "[encoded data removed]",
      "text/plain": [
       "<Figure size 432x288 with 1 Axes>"
      ]
     },
     "metadata": {
      "needs_background": "light"
     },
     "output_type": "display_data"
    }
   ],
   "source": [
    "DATA_PATH = '../input/jpeg-melanoma-512x512/'\n",
    "TRAIN_ROOT_PATH = f'{DATA_PATH}/train'\n",
    "TEST_ROOT_PATH = f'{DATA_PATH}/test'\n",
    "\n",
    "df_train = pd.read_csv(f'{DATA_PATH}/train.csv', index_col=\"image_name\")\n",
    "df_train[\"fold\"] = df_train[\"tfrecord\"] // 5\n",
    "df_train = df_train.drop(\"tfrecord\", axis=1)\n",
    "\n",
    "df_test = pd.read_csv(f'{DATA_PATH}/test.csv', index_col=\"image_name\")\n",
    "\n",
    "_ = df_train.groupby('fold').target.hist(alpha=0.4)\n",
    "df_train.groupby('fold').target.mean().to_frame('ratio').T\n"
   ]
  },
  {
   "cell_type": "code",
   "execution_count": 4,
   "metadata": {
    "ExecuteTime": {
     "end_time": "2020-07-31T02:02:15.538653Z",
     "start_time": "2020-07-31T02:02:15.536397Z"
    },
    "code_folding": [
     0
    ]
   },
   "outputs": [],
   "source": [
    "# DATA_PATH = '../input/melanoma-merged-external-data-512x512-jpeg'\n",
    "# TRAIN_ROOT_PATH = f'{DATA_PATH}/512x512-dataset-melanoma/512x512-dataset-melanoma'\n",
    "# TEST_ROOT_PATH = f'{DATA_PATH}/512x512-test/512x512-test'\n",
    "\n",
    "# df_folds = pd.read_csv(f'{DATA_PATH}/folds.csv', index_col='image_id',\n",
    "#                        usecols=['image_id', 'fold', 'target'], dtype={'fold': np.byte, 'target': np.byte})\n",
    "\n",
    "# df_test = pd.read_csv(f'../input/siim-isic-melanoma-classification/test.csv', index_col='image_name')\n",
    "\n",
    "# _ = df_folds.groupby('fold').target.hist(alpha=0.4)\n",
    "# df_folds.groupby('fold').target.mean().to_frame('ratio').T\n"
   ]
  },
  {
   "cell_type": "code",
   "execution_count": 5,
   "metadata": {
    "ExecuteTime": {
     "end_time": "2020-07-31T02:02:15.636942Z",
     "start_time": "2020-07-31T02:02:15.539783Z"
    }
   },
   "outputs": [],
   "source": [
    "class ImageDataset(Dataset):\n",
    "    def __init__(self, path, image_ids, labels=None, transforms=None):\n",
    "        super().__init__()\n",
    "        self.path = path\n",
    "        self.image_ids = image_ids\n",
    "        self.labels = labels\n",
    "        self.transforms = transforms\n",
    "\n",
    "    def __getitem__(self, idx: int):\n",
    "        image_id = self.image_ids[idx]\n",
    "        image = cv2.imread(f'{self.path}/{image_id}.jpg', cv2.IMREAD_COLOR)\n",
    "\n",
    "        if self.transforms:\n",
    "            sample = self.transforms(image=image)\n",
    "            image  = sample['image']\n",
    "            image = image.float()\n",
    "            \n",
    "\n",
    "        label = self.labels[idx] if self.labels is not None else 0.5\n",
    "        return image, label\n",
    "\n",
    "    def __len__(self) -> int:\n",
    "        return self.image_ids.shape[0]\n",
    "\n",
    "    def get_labels(self):\n",
    "        return list(self.labels)"
   ]
  },
  {
   "cell_type": "code",
   "execution_count": 6,
   "metadata": {
    "ExecuteTime": {
     "end_time": "2020-07-31T02:02:15.738609Z",
     "start_time": "2020-07-31T02:02:15.638412Z"
    }
   },
   "outputs": [],
   "source": [
    "resolution = 456\n",
    "input_res  = 512\n",
    "\n",
    "def get_train_transforms():\n",
    "    return A.Compose([\n",
    "#             A.JpegCompression(p=0.5),\n",
    "            A.Rotate(limit=80, p=1.0),\n",
    "            A.OneOf([\n",
    "                A.OpticalDistortion(),\n",
    "                A.GridDistortion(),\n",
    "                A.IAAPiecewiseAffine(),\n",
    "            ]),\n",
    "            A.RandomSizedCrop(min_max_height=(int(resolution*0.7), input_res),\n",
    "                              height=resolution, width=resolution, p=1.0),\n",
    "            A.HorizontalFlip(p=0.5),\n",
    "            A.VerticalFlip(p=0.5),\n",
    "            A.GaussianBlur(p=0.3),\n",
    "            A.OneOf([\n",
    "                A.RandomBrightnessContrast(),   \n",
    "                A.HueSaturationValue(),\n",
    "            ]),\n",
    "            A.Cutout(num_holes=8, max_h_size=resolution//8, max_w_size=resolution//8, fill_value=0, p=0.3),\n",
    "            A.Normalize(),\n",
    "            ToTensorV2(),\n",
    "        ], p=1.0)\n",
    "\n",
    "def get_valid_transforms():\n",
    "    return A.Compose([\n",
    "            A.CenterCrop(height=resolution, width=resolution, p=1.0),\n",
    "            A.Normalize(),\n",
    "            ToTensorV2(),\n",
    "        ], p=1.0)\n",
    "\n",
    "def get_tta_transforms():\n",
    "    return A.Compose([\n",
    "            A.JpegCompression(p=0.5),\n",
    "            A.CenterCrop(height=resolution, width=resolution, p=1.0),\n",
    "            A.RandomSizedCrop(min_max_height=(int(resolution*0.9), int(resolution*1.1)),\n",
    "                              height=resolution, width=resolution, p=1.0),\n",
    "            A.HorizontalFlip(p=0.5),\n",
    "            A.VerticalFlip(p=0.5),\n",
    "            A.Transpose(p=0.5),\n",
    "            A.Normalize(),\n",
    "            ToTensorV2(),\n",
    "        ], p=1.0)"
   ]
  },
  {
   "cell_type": "code",
   "execution_count": 7,
   "metadata": {
    "ExecuteTime": {
     "end_time": "2020-07-31T02:02:16.170610Z",
     "start_time": "2020-07-31T02:02:16.142860Z"
    }
   },
   "outputs": [],
   "source": [
    "ds_train = ImageDataset(\n",
    "    path=TRAIN_ROOT_PATH,\n",
    "    image_ids=df_train[df_train['fold'] != fold_number].index.values,\n",
    "    labels=df_train[df_train['fold'] != fold_number].target.values,\n",
    "    transforms=get_train_transforms(),\n",
    ")\n",
    "\n",
    "ds_val = ImageDataset(\n",
    "    path=TRAIN_ROOT_PATH,\n",
    "    image_ids=df_train[df_train['fold'] == fold_number].index.values,\n",
    "    labels=df_train[df_train['fold'] == fold_number].target.values,\n",
    "    transforms=get_valid_transforms(),\n",
    ")\n",
    "\n",
    "ds_test = ImageDataset(\n",
    "    path=TEST_ROOT_PATH,\n",
    "    image_ids=df_test.index.values,\n",
    "    transforms=get_tta_transforms(),\n",
    ")\n",
    "\n",
    "# del df_train\n",
    "# len(ds_train), len(ds_val), len(ds_test)"
   ]
  },
  {
   "cell_type": "code",
   "execution_count": null,
   "metadata": {
    "ExecuteTime": {
     "start_time": "2020-07-31T02:54:59.199Z"
    }
   },
   "outputs": [],
   "source": [
    "# class TableEmbedding(pl.LightningModule):\n",
    "\n",
    "#     def __init__(self, ds_train, ds_val, batch_size=64, output_dim=None):\n",
    "            \n",
    "#         super(MultiOutputRegression, self).__init__()\n",
    "        \n",
    "#         self.ds_train = ds_train\n",
    "#         self.ds_val = ds_val\n",
    "#         self.batch_size = batch_size\n",
    "        \n",
    "#         input_dim = ds_train.data.shape[1]\n",
    "#         self.input_dim = input_dim\n",
    "#         if output_dim is None:\n",
    "#             output_dim = input_dim\n",
    "            \n",
    "#         self.layer_1 = torch.nn.Linear(input_dim, 256)     \n",
    "#         self.layer_2 = torch.nn.Linear(256, 256)\n",
    "#         self.layer_3 = torch.nn.Linear(256, 128)\n",
    "#         self.layer_4 = torch.nn.Linear(128, output_dim)\n",
    "\n",
    "#     def forward(self, x):\n",
    "#         x = x.view(-1, self.input_dim)\n",
    "#         # layer 1\n",
    "        \n",
    "#         x = self.layer_1(x)\n",
    "#         x = torch.relu(x)\n",
    "\n",
    "#         # layer 2\n",
    "#         x = self.layer_2(x)\n",
    "#         x = torch.relu(x)\n",
    "        \n",
    "#         # layer 3\n",
    "#         x = self.layer_3(x)\n",
    "#         x = torch.relu(x)\n",
    "        \n",
    "#         # layer 4\n",
    "#         x = self.layer_4(x)\n",
    "\n",
    "#         return x"
   ]
  },
  {
   "cell_type": "code",
   "execution_count": null,
   "metadata": {},
   "outputs": [],
   "source": [
    "# class ConcatModel(pl.LightningModule):\n",
    "\n",
    "#     def __init__(self, ds_train, ds_val, batch_size=64, output_dim=None):\n",
    "            \n",
    "#         super(MultiOutputRegression, self).__init__()\n",
    "        \n",
    "#         self.ds_train = ds_train\n",
    "#         self.ds_val = ds_val\n",
    "#         self.batch_size = batch_size\n",
    "        \n",
    "#         input_dim = ds_train.data.shape[1]\n",
    "#         self.input_dim = input_dim\n",
    "#         if output_dim is None:\n",
    "#             output_dim = input_dim\n",
    "            \n",
    "#         self.layer_1 = torch.nn.Linear(input_dim, 256)     \n",
    "#         self.layer_2 = torch.nn.Linear(256, 256)\n",
    "#         self.layer_3 = torch.nn.Linear(256, 128)\n",
    "#         self.layer_4 = torch.nn.Linear(128, output_dim)\n",
    "        \n",
    "        \n",
    "#         self.val_losses = list()\n",
    "\n",
    "#     def forward(self, x):\n",
    "#         x = x.view(-1, self.input_dim)\n",
    "#         # layer 1\n",
    "        \n",
    "#         x = self.layer_1(x)\n",
    "#         x = torch.relu(x)\n",
    "\n",
    "#         # layer 2\n",
    "#         x = self.layer_2(x)\n",
    "#         x = torch.relu(x)\n",
    "        \n",
    "#         # layer 3\n",
    "#         x = self.layer_3(x)\n",
    "#         x = torch.relu(x)\n",
    "        \n",
    "#         # layer 4\n",
    "#         x = self.layer_4(x)\n",
    "\n",
    "#         return x\n",
    "    \n",
    "#     def loss_function(self, y_pred, y_true):\n",
    "#         y_true = y_true.view(-1, self.input_dim)\n",
    "#         return torch.nn.MSELoss()(y_pred, y_true)\n",
    "    \n",
    "#     def training_step(self, train_batch, batch_idx):\n",
    "#         x, y_true = train_batch\n",
    "#         y_pred = self.forward(x)\n",
    "#         loss = self.loss_function(y_pred, y_true)\n",
    "\n",
    "#         logs = {'train_loss': loss}\n",
    "#         return {'loss': loss, 'log': logs}\n",
    "\n",
    "#     def validation_step(self, val_batch, batch_idx):\n",
    "#         x, y_true = val_batch\n",
    "#         y_pred = self.forward(x)\n",
    "#         loss = self.loss_function(y_pred, y_true)\n",
    "# #         global cnt\n",
    "# #         cnt += 1\n",
    "# #         if cnt==3000:\n",
    "# #             from IPython.core.debugger import Pdb; Pdb().set_trace()\n",
    "\n",
    "#         return {'val_batch_loss': loss}\n",
    "\n",
    "#     def validation_epoch_end(self, outputs):\n",
    "#         # called at the end of the validation epoch\n",
    "#         # outputs is an array with what you returned in validation_step for each batch\n",
    "#         # outputs = [{'loss': batch_0_loss}, {'loss': batch_1_loss}, ..., {'loss': batch_n_loss}] \n",
    "#         avg_loss = torch.stack([x['val_batch_loss'] for x in outputs]).mean()\n",
    "#         tensorboard_logs = {'val_loss': avg_loss}\n",
    "#         self.val_losses.append(float(avg_loss.cpu().numpy()))\n",
    "#         return {'val_loss': avg_loss, 'log': tensorboard_logs}\n",
    "    \n",
    "# #     def test_step(self, test_batch, batch_idx):\n",
    "# #         x, y_true = test_batch\n",
    "# #         y_pred = self.forward(x)\n",
    "# #         loss = self.loss_function(y_pred, y_true)\n",
    "# #         return {'test_batch_loss': loss}\n",
    "\n",
    "# #     def test_epoch_end(self, outputs):\n",
    "# #         # called at the end of the test epoch\n",
    "# #         # outputs is an array with what you returned in test_step for each batch\n",
    "# #         # outputs = [{'loss': batch_0_loss}, {'loss': batch_1_loss}, ..., {'loss': batch_n_loss}] \n",
    "# #         avg_loss = torch.stack([x['test_batch_loss'] for x in outputs]).mean()\n",
    "# #         tensorboard_logs = {'test_loss': avg_loss}\n",
    "# #         self.test_losses.append(float(avg_loss.cpu().numpy()))\n",
    "# #         return {'test_loss': avg_loss, 'log': tensorboard_logs}\n",
    "    \n",
    "#     def prepare_data(self): \n",
    "#         pass\n",
    "    \n",
    "#     def train_dataloader(self): \n",
    "#         return DataLoader(self.ds_train, batch_size=self.batch_size)# num_workers=-1) \n",
    "\n",
    "#     def val_dataloader(self): \n",
    "#         return DataLoader(self.ds_val, batch_size=self.batch_size)# num_workers=-1) \n",
    "\n",
    "# #     def test_dataloader(self): \n",
    "# #         return DataLoader(self,dataset_test, batch_size=self.batch_size) \n",
    "\n",
    "#     def configure_optimizers(self): \n",
    "#         optimizer = torch.optim.Adam(self.parameters(), lr=1e-4) \n",
    "#         return optimizer \n"
   ]
  },
  {
   "cell_type": "code",
   "execution_count": 8,
   "metadata": {
    "ExecuteTime": {
     "end_time": "2020-07-31T02:02:16.731486Z",
     "start_time": "2020-07-31T02:02:16.705718Z"
    }
   },
   "outputs": [],
   "source": [
    "class MelanomaModel(pl.LightningModule):\n",
    "\n",
    "    def __init__(self, ds_train, ds_val, output_dim=None):\n",
    "            \n",
    "        super(MelanomaModel, self).__init__()\n",
    "        \n",
    "        self.ds_train = ds_train\n",
    "        self.ds_val = ds_val\n",
    "        self.ds_test = ds_test\n",
    "        self.val_logloss = list()\n",
    "        self.val_auc = list()\n",
    "\n",
    "#         self.net = models.resnet18(pretrained=True)\n",
    "#         self.net.fc = nn.Linear(in_features=self.net.fc.in_features, out_features=1)\n",
    "        self.net = ptcv_get_model(\"efficientnet_b2c\", pretrained=True)\n",
    "        self.net.output.fc = nn.Linear(in_features=self.net.output.fc.in_features, out_features=1)\n",
    "        \n",
    "        \n",
    "    def forward(self, x):\n",
    "        x = self.net(x)\n",
    "        return x\n",
    "    \n",
    "    def loss_function(self, y_pred, y_true):\n",
    "        loss = nn.BCEWithLogitsLoss()\n",
    "        return loss(y_pred, y_true)\n",
    "    \n",
    "    def training_step(self, train_batch, batch_idx):\n",
    "        x, y_true = train_batch\n",
    "        y_pred = self.forward(x).flatten()\n",
    "        loss = self.loss_function(y_pred, y_true.type_as(y_pred))\n",
    "\n",
    "        logs = {'train_loss': loss}\n",
    "        return {'loss': loss, 'log': logs}\n",
    "\n",
    "    def validation_step(self, val_batch, batch_idx):\n",
    "        x, y_true = val_batch\n",
    "        logits = self(x)\n",
    "        y_pred = logits.flatten()\n",
    "        probs = torch.sigmoid(logits)\n",
    "#         loss = self.loss_function(y_pred, y_true.type_as(y_pred))\n",
    "#         return {'val_batch_loss': loss, 'probs':probs, 'y_true':y_true}\n",
    "        return {'probs':probs, 'y_true':y_true}\n",
    "\n",
    "    def validation_epoch_end(self, outputs):\n",
    "        # called at the end of the validation epoch\n",
    "        # outputs is an array with what you returned in validation_step for each batch\n",
    "        # outputs = [{'loss': batch_0_loss}, {'loss': batch_1_loss}, ..., {'loss': batch_n_loss}] \n",
    "        probs = torch.cat([out['probs'] for out in outputs], dim=0)\n",
    "        probs = probs.detach().cpu().numpy()\n",
    "        \n",
    "        y_true = torch.cat([out['y_true'] for out in outputs], dim=0)\n",
    "        y_true = y_true.detach().cpu().numpy()\n",
    "        \n",
    "        self.val_predicts = probs  # Save prediction internally for easy access\n",
    "        auc_score = roc_auc_score(y_true, probs)\n",
    "        cross_entropy = log_loss(y_true, probs)\n",
    "        \n",
    "        tensorboard_logs = {'valid_logloss': cross_entropy, 'valid_auc':auc_score}\n",
    "        self.val_logloss.append(cross_entropy)\n",
    "        self.val_auc.append(auc_score)\n",
    "        return {'val_loss': cross_entropy, 'log': tensorboard_logs}\n",
    "    \n",
    "    def test_step(self, batch, batch_idx):\n",
    "        x, _ = batch\n",
    "\n",
    "        logits = self(x)\n",
    "        probs = torch.sigmoid(logits)\n",
    "        \n",
    "        return {'probs': probs}\n",
    "    \n",
    "    def test_epoch_end(self, outputs):\n",
    "        probs = torch.cat([out['probs'] for out in outputs], dim=0)\n",
    "        probs = probs.detach().cpu().numpy()\n",
    "        self.test_predicts = probs  # Save prediction internally for easy access\n",
    "        # We need to return something \n",
    "        return {'dummy_item': 0}\n",
    "    \n",
    "    \n",
    "    def prepare_data(self): \n",
    "        pass\n",
    "    \n",
    "    def train_dataloader(self): \n",
    "        return DataLoader(self.ds_train, batch_size=batch_size, num_workers=8, shuffle=True) \n",
    "\n",
    "    def val_dataloader(self): \n",
    "        return DataLoader(self.ds_val, batch_size=batch_size, num_workers=8) \n",
    "\n",
    "    def test_dataloader(self): \n",
    "        return DataLoader(self.ds_test, batch_size=batch_size, num_workers=8) \n",
    "\n",
    "    def configure_optimizers(self): \n",
    "        optimizer = torch.optim.Adam(self.parameters(), lr=1e-5) \n",
    "        return optimizer \n"
   ]
  },
  {
   "cell_type": "code",
   "execution_count": null,
   "metadata": {
    "ExecuteTime": {
     "start_time": "2020-07-31T02:02:17.137Z"
    }
   },
   "outputs": [
    {
     "name": "stderr",
     "output_type": "stream",
     "text": [
      "INFO:lightning:GPU available: True, used: True\n",
      "INFO:lightning:CUDA_VISIBLE_DEVICES: [4,5]\n",
      "INFO:lightning:\n",
      "    | Name                                    | Type              | Params\n",
      "--------------------------------------------------------------------------\n",
      "0   | net                                     | EfficientNet      | 7 M   \n",
      "1   | net.features                            | Sequential        | 7 M   \n",
      "2   | net.features.init_block                 | EffiInitBlock     | 928   \n",
      "3   | net.features.init_block.conv            | ConvBlock         | 928   \n",
      "4   | net.features.init_block.conv.conv       | Conv2d            | 864   \n",
      "5   | net.features.init_block.conv.bn         | BatchNorm2d       | 64    \n",
      "6   | net.features.init_block.conv.activ      | Swish             | 0     \n",
      "7   | net.features.stage1                     | Sequential        | 2 K   \n",
      "8   | net.features.stage1.unit1               | EffiDwsConvUnit   | 1 K   \n",
      "9   | net.features.stage1.unit1.dw_conv       | ConvBlock         | 352   \n",
      "10  | net.features.stage1.unit1.dw_conv.conv  | Conv2d            | 288   \n",
      "11  | net.features.stage1.unit1.dw_conv.bn    | BatchNorm2d       | 64    \n",
      "12  | net.features.stage1.unit1.dw_conv.activ | Swish             | 0     \n",
      "13  | net.features.stage1.unit1.se            | SEBlock           | 552   \n",
      "14  | net.features.stage1.unit1.se.pool       | AdaptiveAvgPool2d | 0     \n",
      "15  | net.features.stage1.unit1.se.conv1      | Conv2d            | 264   \n",
      "16  | net.features.stage1.unit1.se.activ      | Swish             | 0     \n",
      "17  | net.features.stage1.unit1.se.conv2      | Conv2d            | 288   \n",
      "18  | net.features.stage1.unit1.se.sigmoid    | Sigmoid           | 0     \n",
      "19  | net.features.stage1.unit1.pw_conv       | ConvBlock         | 544   \n",
      "20  | net.features.stage1.unit1.pw_conv.conv  | Conv2d            | 512   \n",
      "21  | net.features.stage1.unit1.pw_conv.bn    | BatchNorm2d       | 32    \n",
      "22  | net.features.stage1.unit2               | EffiDwsConvUnit   | 612   \n",
      "23  | net.features.stage1.unit2.dw_conv       | ConvBlock         | 176   \n",
      "24  | net.features.stage1.unit2.dw_conv.conv  | Conv2d            | 144   \n",
      "25  | net.features.stage1.unit2.dw_conv.bn    | BatchNorm2d       | 32    \n",
      "26  | net.features.stage1.unit2.dw_conv.activ | Swish             | 0     \n",
      "27  | net.features.stage1.unit2.se            | SEBlock           | 148   \n",
      "28  | net.features.stage1.unit2.se.pool       | AdaptiveAvgPool2d | 0     \n",
      "29  | net.features.stage1.unit2.se.conv1      | Conv2d            | 68    \n",
      "30  | net.features.stage1.unit2.se.activ      | Swish             | 0     \n",
      "31  | net.features.stage1.unit2.se.conv2      | Conv2d            | 80    \n",
      "32  | net.features.stage1.unit2.se.sigmoid    | Sigmoid           | 0     \n",
      "33  | net.features.stage1.unit2.pw_conv       | ConvBlock         | 288   \n",
      "34  | net.features.stage1.unit2.pw_conv.conv  | Conv2d            | 256   \n",
      "35  | net.features.stage1.unit2.pw_conv.bn    | BatchNorm2d       | 32    \n",
      "36  | net.features.stage2                     | Sequential        | 27 K  \n",
      "37  | net.features.stage2.unit1               | EffiInvResUnit    | 6 K   \n",
      "38  | net.features.stage2.unit1.conv1         | ConvBlock         | 1 K   \n",
      "39  | net.features.stage2.unit1.conv1.conv    | Conv2d            | 1 K   \n",
      "40  | net.features.stage2.unit1.conv1.bn      | BatchNorm2d       | 192   \n",
      "41  | net.features.stage2.unit1.conv1.activ   | Swish             | 0     \n",
      "42  | net.features.stage2.unit1.conv2         | ConvBlock         | 1 K   \n",
      "43  | net.features.stage2.unit1.conv2.conv    | Conv2d            | 864   \n",
      "44  | net.features.stage2.unit1.conv2.bn      | BatchNorm2d       | 192   \n",
      "45  | net.features.stage2.unit1.conv2.activ   | Swish             | 0     \n",
      "46  | net.features.stage2.unit1.se            | SEBlock           | 868   \n",
      "47  | net.features.stage2.unit1.se.pool       | AdaptiveAvgPool2d | 0     \n",
      "48  | net.features.stage2.unit1.se.conv1      | Conv2d            | 388   \n",
      "49  | net.features.stage2.unit1.se.activ      | Swish             | 0     \n",
      "50  | net.features.stage2.unit1.se.conv2      | Conv2d            | 480   \n",
      "51  | net.features.stage2.unit1.se.sigmoid    | Sigmoid           | 0     \n",
      "52  | net.features.stage2.unit1.conv3         | ConvBlock         | 2 K   \n",
      "53  | net.features.stage2.unit1.conv3.conv    | Conv2d            | 2 K   \n",
      "54  | net.features.stage2.unit1.conv3.bn      | BatchNorm2d       | 48    \n",
      "55  | net.features.stage2.unit2               | EffiInvResUnit    | 10 K  \n",
      "56  | net.features.stage2.unit2.conv1         | ConvBlock         | 3 K   \n",
      "57  | net.features.stage2.unit2.conv1.conv    | Conv2d            | 3 K   \n",
      "58  | net.features.stage2.unit2.conv1.bn      | BatchNorm2d       | 288   \n",
      "59  | net.features.stage2.unit2.conv1.activ   | Swish             | 0     \n",
      "60  | net.features.stage2.unit2.conv2         | ConvBlock         | 1 K   \n",
      "61  | net.features.stage2.unit2.conv2.conv    | Conv2d            | 1 K   \n",
      "62  | net.features.stage2.unit2.conv2.bn      | BatchNorm2d       | 288   \n",
      "63  | net.features.stage2.unit2.conv2.activ   | Swish             | 0     \n",
      "64  | net.features.stage2.unit2.se            | SEBlock           | 1 K   \n",
      "65  | net.features.stage2.unit2.se.pool       | AdaptiveAvgPool2d | 0     \n",
      "66  | net.features.stage2.unit2.se.conv1      | Conv2d            | 870   \n",
      "67  | net.features.stage2.unit2.se.activ      | Swish             | 0     \n",
      "68  | net.features.stage2.unit2.se.conv2      | Conv2d            | 1 K   \n",
      "69  | net.features.stage2.unit2.se.sigmoid    | Sigmoid           | 0     \n",
      "70  | net.features.stage2.unit2.conv3         | ConvBlock         | 3 K   \n",
      "71  | net.features.stage2.unit2.conv3.conv    | Conv2d            | 3 K   \n",
      "72  | net.features.stage2.unit2.conv3.bn      | BatchNorm2d       | 48    \n",
      "73  | net.features.stage2.unit3               | EffiInvResUnit    | 10 K  \n",
      "74  | net.features.stage2.unit3.conv1         | ConvBlock         | 3 K   \n",
      "75  | net.features.stage2.unit3.conv1.conv    | Conv2d            | 3 K   \n",
      "76  | net.features.stage2.unit3.conv1.bn      | BatchNorm2d       | 288   \n",
      "77  | net.features.stage2.unit3.conv1.activ   | Swish             | 0     \n",
      "78  | net.features.stage2.unit3.conv2         | ConvBlock         | 1 K   \n",
      "79  | net.features.stage2.unit3.conv2.conv    | Conv2d            | 1 K   \n",
      "80  | net.features.stage2.unit3.conv2.bn      | BatchNorm2d       | 288   \n",
      "81  | net.features.stage2.unit3.conv2.activ   | Swish             | 0     \n",
      "82  | net.features.stage2.unit3.se            | SEBlock           | 1 K   \n",
      "83  | net.features.stage2.unit3.se.pool       | AdaptiveAvgPool2d | 0     \n",
      "84  | net.features.stage2.unit3.se.conv1      | Conv2d            | 870   \n",
      "85  | net.features.stage2.unit3.se.activ      | Swish             | 0     \n",
      "86  | net.features.stage2.unit3.se.conv2      | Conv2d            | 1 K   \n",
      "87  | net.features.stage2.unit3.se.sigmoid    | Sigmoid           | 0     \n",
      "88  | net.features.stage2.unit3.conv3         | ConvBlock         | 3 K   \n",
      "89  | net.features.stage2.unit3.conv3.conv    | Conv2d            | 3 K   \n",
      "90  | net.features.stage2.unit3.conv3.bn      | BatchNorm2d       | 48    \n",
      "91  | net.features.stage3                     | Sequential        | 103 K \n",
      "92  | net.features.stage3.unit1               | EffiInvResUnit    | 16 K  \n",
      "93  | net.features.stage3.unit1.conv1         | ConvBlock         | 3 K   \n",
      "94  | net.features.stage3.unit1.conv1.conv    | Conv2d            | 3 K   \n",
      "95  | net.features.stage3.unit1.conv1.bn      | BatchNorm2d       | 288   \n",
      "96  | net.features.stage3.unit1.conv1.activ   | Swish             | 0     \n",
      "97  | net.features.stage3.unit1.conv2         | ConvBlock         | 3 K   \n",
      "98  | net.features.stage3.unit1.conv2.conv    | Conv2d            | 3 K   \n",
      "99  | net.features.stage3.unit1.conv2.bn      | BatchNorm2d       | 288   \n",
      "100 | net.features.stage3.unit1.conv2.activ   | Swish             | 0     \n",
      "101 | net.features.stage3.unit1.se            | SEBlock           | 1 K   \n",
      "102 | net.features.stage3.unit1.se.pool       | AdaptiveAvgPool2d | 0     \n",
      "103 | net.features.stage3.unit1.se.conv1      | Conv2d            | 870   \n",
      "104 | net.features.stage3.unit1.se.activ      | Swish             | 0     \n",
      "105 | net.features.stage3.unit1.se.conv2      | Conv2d            | 1 K   \n",
      "106 | net.features.stage3.unit1.se.sigmoid    | Sigmoid           | 0     \n",
      "107 | net.features.stage3.unit1.conv3         | ConvBlock         | 7 K   \n",
      "108 | net.features.stage3.unit1.conv3.conv    | Conv2d            | 6 K   \n",
      "109 | net.features.stage3.unit1.conv3.bn      | BatchNorm2d       | 96    \n",
      "110 | net.features.stage3.unit2               | EffiInvResUnit    | 43 K  \n",
      "111 | net.features.stage3.unit2.conv1         | ConvBlock         | 14 K  \n",
      "112 | net.features.stage3.unit2.conv1.conv    | Conv2d            | 13 K  \n",
      "113 | net.features.stage3.unit2.conv1.bn      | BatchNorm2d       | 576   \n",
      "114 | net.features.stage3.unit2.conv1.activ   | Swish             | 0     \n",
      "115 | net.features.stage3.unit2.conv2         | ConvBlock         | 7 K   \n",
      "116 | net.features.stage3.unit2.conv2.conv    | Conv2d            | 7 K   \n",
      "117 | net.features.stage3.unit2.conv2.bn      | BatchNorm2d       | 576   \n",
      "118 | net.features.stage3.unit2.conv2.activ   | Swish             | 0     \n",
      "119 | net.features.stage3.unit2.se            | SEBlock           | 7 K   \n",
      "120 | net.features.stage3.unit2.se.pool       | AdaptiveAvgPool2d | 0     \n",
      "121 | net.features.stage3.unit2.se.conv1      | Conv2d            | 3 K   \n",
      "122 | net.features.stage3.unit2.se.activ      | Swish             | 0     \n",
      "123 | net.features.stage3.unit2.se.conv2      | Conv2d            | 3 K   \n",
      "124 | net.features.stage3.unit2.se.sigmoid    | Sigmoid           | 0     \n",
      "125 | net.features.stage3.unit2.conv3         | ConvBlock         | 13 K  \n",
      "126 | net.features.stage3.unit2.conv3.conv    | Conv2d            | 13 K  \n",
      "127 | net.features.stage3.unit2.conv3.bn      | BatchNorm2d       | 96    \n",
      "128 | net.features.stage3.unit3               | EffiInvResUnit    | 43 K  \n",
      "129 | net.features.stage3.unit3.conv1         | ConvBlock         | 14 K  \n",
      "130 | net.features.stage3.unit3.conv1.conv    | Conv2d            | 13 K  \n",
      "131 | net.features.stage3.unit3.conv1.bn      | BatchNorm2d       | 576   \n",
      "132 | net.features.stage3.unit3.conv1.activ   | Swish             | 0     \n",
      "133 | net.features.stage3.unit3.conv2         | ConvBlock         | 7 K   \n",
      "134 | net.features.stage3.unit3.conv2.conv    | Conv2d            | 7 K   \n",
      "135 | net.features.stage3.unit3.conv2.bn      | BatchNorm2d       | 576   \n",
      "136 | net.features.stage3.unit3.conv2.activ   | Swish             | 0     \n",
      "137 | net.features.stage3.unit3.se            | SEBlock           | 7 K   \n",
      "138 | net.features.stage3.unit3.se.pool       | AdaptiveAvgPool2d | 0     \n",
      "139 | net.features.stage3.unit3.se.conv1      | Conv2d            | 3 K   \n",
      "140 | net.features.stage3.unit3.se.activ      | Swish             | 0     \n",
      "141 | net.features.stage3.unit3.se.conv2      | Conv2d            | 3 K   \n",
      "142 | net.features.stage3.unit3.se.sigmoid    | Sigmoid           | 0     \n",
      "143 | net.features.stage3.unit3.conv3         | ConvBlock         | 13 K  \n",
      "144 | net.features.stage3.unit3.conv3.conv    | Conv2d            | 13 K  \n",
      "145 | net.features.stage3.unit3.conv3.bn      | BatchNorm2d       | 96    \n",
      "146 | net.features.stage4                     | Sequential        | 1 M   \n",
      "147 | net.features.stage4.unit1               | EffiInvResUnit    | 50 K  \n",
      "148 | net.features.stage4.unit1.conv1         | ConvBlock         | 14 K  \n",
      "149 | net.features.stage4.unit1.conv1.conv    | Conv2d            | 13 K  \n",
      "150 | net.features.stage4.unit1.conv1.bn      | BatchNorm2d       | 576   \n",
      "151 | net.features.stage4.unit1.conv1.activ   | Swish             | 0     \n",
      "152 | net.features.stage4.unit1.conv2         | ConvBlock         | 3 K   \n",
      "153 | net.features.stage4.unit1.conv2.conv    | Conv2d            | 2 K   \n",
      "154 | net.features.stage4.unit1.conv2.bn      | BatchNorm2d       | 576   \n",
      "155 | net.features.stage4.unit1.conv2.activ   | Swish             | 0     \n",
      "156 | net.features.stage4.unit1.se            | SEBlock           | 7 K   \n",
      "157 | net.features.stage4.unit1.se.pool       | AdaptiveAvgPool2d | 0     \n",
      "158 | net.features.stage4.unit1.se.conv1      | Conv2d            | 3 K   \n",
      "159 | net.features.stage4.unit1.se.activ      | Swish             | 0     \n",
      "160 | net.features.stage4.unit1.se.conv2      | Conv2d            | 3 K   \n",
      "161 | net.features.stage4.unit1.se.sigmoid    | Sigmoid           | 0     \n",
      "162 | net.features.stage4.unit1.conv3         | ConvBlock         | 25 K  \n",
      "163 | net.features.stage4.unit1.conv3.conv    | Conv2d            | 25 K  \n",
      "164 | net.features.stage4.unit1.conv3.bn      | BatchNorm2d       | 176   \n",
      "165 | net.features.stage4.unit2               | EffiInvResUnit    | 123 K \n",
      "166 | net.features.stage4.unit2.conv1         | ConvBlock         | 47 K  \n",
      "167 | net.features.stage4.unit2.conv1.conv    | Conv2d            | 46 K  \n",
      "168 | net.features.stage4.unit2.conv1.bn      | BatchNorm2d       | 1 K   \n",
      "169 | net.features.stage4.unit2.conv1.activ   | Swish             | 0     \n",
      "170 | net.features.stage4.unit2.conv2         | ConvBlock         | 5 K   \n",
      "171 | net.features.stage4.unit2.conv2.conv    | Conv2d            | 4 K   \n",
      "172 | net.features.stage4.unit2.conv2.bn      | BatchNorm2d       | 1 K   \n",
      "173 | net.features.stage4.unit2.conv2.activ   | Swish             | 0     \n",
      "174 | net.features.stage4.unit2.se            | SEBlock           | 23 K  \n",
      "175 | net.features.stage4.unit2.se.pool       | AdaptiveAvgPool2d | 0     \n",
      "176 | net.features.stage4.unit2.se.conv1      | Conv2d            | 11 K  \n",
      "177 | net.features.stage4.unit2.se.activ      | Swish             | 0     \n",
      "178 | net.features.stage4.unit2.se.conv2      | Conv2d            | 12 K  \n",
      "179 | net.features.stage4.unit2.se.sigmoid    | Sigmoid           | 0     \n",
      "180 | net.features.stage4.unit2.conv3         | ConvBlock         | 46 K  \n",
      "181 | net.features.stage4.unit2.conv3.conv    | Conv2d            | 46 K  \n",
      "182 | net.features.stage4.unit2.conv3.bn      | BatchNorm2d       | 176   \n",
      "183 | net.features.stage4.unit3               | EffiInvResUnit    | 123 K \n",
      "184 | net.features.stage4.unit3.conv1         | ConvBlock         | 47 K  \n",
      "185 | net.features.stage4.unit3.conv1.conv    | Conv2d            | 46 K  \n",
      "186 | net.features.stage4.unit3.conv1.bn      | BatchNorm2d       | 1 K   \n",
      "187 | net.features.stage4.unit3.conv1.activ   | Swish             | 0     \n",
      "188 | net.features.stage4.unit3.conv2         | ConvBlock         | 5 K   \n",
      "189 | net.features.stage4.unit3.conv2.conv    | Conv2d            | 4 K   \n",
      "190 | net.features.stage4.unit3.conv2.bn      | BatchNorm2d       | 1 K   \n",
      "191 | net.features.stage4.unit3.conv2.activ   | Swish             | 0     \n",
      "192 | net.features.stage4.unit3.se            | SEBlock           | 23 K  \n",
      "193 | net.features.stage4.unit3.se.pool       | AdaptiveAvgPool2d | 0     \n",
      "194 | net.features.stage4.unit3.se.conv1      | Conv2d            | 11 K  \n",
      "195 | net.features.stage4.unit3.se.activ      | Swish             | 0     \n",
      "196 | net.features.stage4.unit3.se.conv2      | Conv2d            | 12 K  \n",
      "197 | net.features.stage4.unit3.se.sigmoid    | Sigmoid           | 0     \n",
      "198 | net.features.stage4.unit3.conv3         | ConvBlock         | 46 K  \n",
      "199 | net.features.stage4.unit3.conv3.conv    | Conv2d            | 46 K  \n",
      "200 | net.features.stage4.unit3.conv3.bn      | BatchNorm2d       | 176   \n",
      "201 | net.features.stage4.unit4               | EffiInvResUnit    | 123 K \n",
      "202 | net.features.stage4.unit4.conv1         | ConvBlock         | 47 K  \n",
      "203 | net.features.stage4.unit4.conv1.conv    | Conv2d            | 46 K  \n",
      "204 | net.features.stage4.unit4.conv1.bn      | BatchNorm2d       | 1 K   \n",
      "205 | net.features.stage4.unit4.conv1.activ   | Swish             | 0     \n",
      "206 | net.features.stage4.unit4.conv2         | ConvBlock         | 5 K   \n",
      "207 | net.features.stage4.unit4.conv2.conv    | Conv2d            | 4 K   \n",
      "208 | net.features.stage4.unit4.conv2.bn      | BatchNorm2d       | 1 K   \n",
      "209 | net.features.stage4.unit4.conv2.activ   | Swish             | 0     \n",
      "210 | net.features.stage4.unit4.se            | SEBlock           | 23 K  \n",
      "211 | net.features.stage4.unit4.se.pool       | AdaptiveAvgPool2d | 0     \n",
      "212 | net.features.stage4.unit4.se.conv1      | Conv2d            | 11 K  \n",
      "213 | net.features.stage4.unit4.se.activ      | Swish             | 0     \n",
      "214 | net.features.stage4.unit4.se.conv2      | Conv2d            | 12 K  \n",
      "215 | net.features.stage4.unit4.se.sigmoid    | Sigmoid           | 0     \n",
      "216 | net.features.stage4.unit4.conv3         | ConvBlock         | 46 K  \n",
      "217 | net.features.stage4.unit4.conv3.conv    | Conv2d            | 46 K  \n",
      "218 | net.features.stage4.unit4.conv3.bn      | BatchNorm2d       | 176   \n",
      "219 | net.features.stage4.unit5               | EffiInvResUnit    | 149 K \n",
      "220 | net.features.stage4.unit5.conv1         | ConvBlock         | 47 K  \n",
      "221 | net.features.stage4.unit5.conv1.conv    | Conv2d            | 46 K  \n",
      "222 | net.features.stage4.unit5.conv1.bn      | BatchNorm2d       | 1 K   \n",
      "223 | net.features.stage4.unit5.conv1.activ   | Swish             | 0     \n",
      "224 | net.features.stage4.unit5.conv2         | ConvBlock         | 14 K  \n",
      "225 | net.features.stage4.unit5.conv2.conv    | Conv2d            | 13 K  \n",
      "226 | net.features.stage4.unit5.conv2.bn      | BatchNorm2d       | 1 K   \n",
      "227 | net.features.stage4.unit5.conv2.activ   | Swish             | 0     \n",
      "228 | net.features.stage4.unit5.se            | SEBlock           | 23 K  \n",
      "229 | net.features.stage4.unit5.se.pool       | AdaptiveAvgPool2d | 0     \n",
      "230 | net.features.stage4.unit5.se.conv1      | Conv2d            | 11 K  \n",
      "231 | net.features.stage4.unit5.se.activ      | Swish             | 0     \n",
      "232 | net.features.stage4.unit5.se.conv2      | Conv2d            | 12 K  \n",
      "233 | net.features.stage4.unit5.se.sigmoid    | Sigmoid           | 0     \n",
      "234 | net.features.stage4.unit5.conv3         | ConvBlock         | 63 K  \n",
      "235 | net.features.stage4.unit5.conv3.conv    | Conv2d            | 63 K  \n",
      "236 | net.features.stage4.unit5.conv3.bn      | BatchNorm2d       | 240   \n",
      "237 | net.features.stage4.unit6               | EffiInvResUnit    | 237 K \n",
      "238 | net.features.stage4.unit6.conv1         | ConvBlock         | 87 K  \n",
      "239 | net.features.stage4.unit6.conv1.conv    | Conv2d            | 86 K  \n",
      "240 | net.features.stage4.unit6.conv1.bn      | BatchNorm2d       | 1 K   \n",
      "241 | net.features.stage4.unit6.conv1.activ   | Swish             | 0     \n",
      "242 | net.features.stage4.unit6.conv2         | ConvBlock         | 19 K  \n",
      "243 | net.features.stage4.unit6.conv2.conv    | Conv2d            | 18 K  \n",
      "244 | net.features.stage4.unit6.conv2.bn      | BatchNorm2d       | 1 K   \n",
      "245 | net.features.stage4.unit6.conv2.activ   | Swish             | 0     \n",
      "246 | net.features.stage4.unit6.se            | SEBlock           | 43 K  \n",
      "247 | net.features.stage4.unit6.se.pool       | AdaptiveAvgPool2d | 0     \n",
      "248 | net.features.stage4.unit6.se.conv1      | Conv2d            | 21 K  \n",
      "249 | net.features.stage4.unit6.se.activ      | Swish             | 0     \n",
      "250 | net.features.stage4.unit6.se.conv2      | Conv2d            | 22 K  \n",
      "251 | net.features.stage4.unit6.se.sigmoid    | Sigmoid           | 0     \n",
      "252 | net.features.stage4.unit6.conv3         | ConvBlock         | 86 K  \n",
      "253 | net.features.stage4.unit6.conv3.conv    | Conv2d            | 86 K  \n",
      "254 | net.features.stage4.unit6.conv3.bn      | BatchNorm2d       | 240   \n",
      "255 | net.features.stage4.unit7               | EffiInvResUnit    | 237 K \n",
      "256 | net.features.stage4.unit7.conv1         | ConvBlock         | 87 K  \n",
      "257 | net.features.stage4.unit7.conv1.conv    | Conv2d            | 86 K  \n",
      "258 | net.features.stage4.unit7.conv1.bn      | BatchNorm2d       | 1 K   \n",
      "259 | net.features.stage4.unit7.conv1.activ   | Swish             | 0     \n",
      "260 | net.features.stage4.unit7.conv2         | ConvBlock         | 19 K  \n",
      "261 | net.features.stage4.unit7.conv2.conv    | Conv2d            | 18 K  \n",
      "262 | net.features.stage4.unit7.conv2.bn      | BatchNorm2d       | 1 K   \n",
      "263 | net.features.stage4.unit7.conv2.activ   | Swish             | 0     \n",
      "264 | net.features.stage4.unit7.se            | SEBlock           | 43 K  \n",
      "265 | net.features.stage4.unit7.se.pool       | AdaptiveAvgPool2d | 0     \n",
      "266 | net.features.stage4.unit7.se.conv1      | Conv2d            | 21 K  \n",
      "267 | net.features.stage4.unit7.se.activ      | Swish             | 0     \n",
      "268 | net.features.stage4.unit7.se.conv2      | Conv2d            | 22 K  \n",
      "269 | net.features.stage4.unit7.se.sigmoid    | Sigmoid           | 0     \n",
      "270 | net.features.stage4.unit7.conv3         | ConvBlock         | 86 K  \n",
      "271 | net.features.stage4.unit7.conv3.conv    | Conv2d            | 86 K  \n",
      "272 | net.features.stage4.unit7.conv3.bn      | BatchNorm2d       | 240   \n",
      "273 | net.features.stage4.unit8               | EffiInvResUnit    | 237 K \n",
      "274 | net.features.stage4.unit8.conv1         | ConvBlock         | 87 K  \n",
      "275 | net.features.stage4.unit8.conv1.conv    | Conv2d            | 86 K  \n",
      "276 | net.features.stage4.unit8.conv1.bn      | BatchNorm2d       | 1 K   \n",
      "277 | net.features.stage4.unit8.conv1.activ   | Swish             | 0     \n",
      "278 | net.features.stage4.unit8.conv2         | ConvBlock         | 19 K  \n",
      "279 | net.features.stage4.unit8.conv2.conv    | Conv2d            | 18 K  \n",
      "280 | net.features.stage4.unit8.conv2.bn      | BatchNorm2d       | 1 K   \n",
      "281 | net.features.stage4.unit8.conv2.activ   | Swish             | 0     \n",
      "282 | net.features.stage4.unit8.se            | SEBlock           | 43 K  \n",
      "283 | net.features.stage4.unit8.se.pool       | AdaptiveAvgPool2d | 0     \n",
      "284 | net.features.stage4.unit8.se.conv1      | Conv2d            | 21 K  \n",
      "285 | net.features.stage4.unit8.se.activ      | Swish             | 0     \n",
      "286 | net.features.stage4.unit8.se.conv2      | Conv2d            | 22 K  \n",
      "287 | net.features.stage4.unit8.se.sigmoid    | Sigmoid           | 0     \n",
      "288 | net.features.stage4.unit8.conv3         | ConvBlock         | 86 K  \n",
      "289 | net.features.stage4.unit8.conv3.conv    | Conv2d            | 86 K  \n",
      "290 | net.features.stage4.unit8.conv3.bn      | BatchNorm2d       | 240   \n",
      "291 | net.features.stage5                     | Sequential        | 5 M   \n",
      "292 | net.features.stage5.unit1               | EffiInvResUnit    | 301 K \n",
      "293 | net.features.stage5.unit1.conv1         | ConvBlock         | 87 K  \n",
      "294 | net.features.stage5.unit1.conv1.conv    | Conv2d            | 86 K  \n",
      "295 | net.features.stage5.unit1.conv1.bn      | BatchNorm2d       | 1 K   \n",
      "296 | net.features.stage5.unit1.conv1.activ   | Swish             | 0     \n",
      "297 | net.features.stage5.unit1.conv2         | ConvBlock         | 19 K  \n",
      "298 | net.features.stage5.unit1.conv2.conv    | Conv2d            | 18 K  \n",
      "299 | net.features.stage5.unit1.conv2.bn      | BatchNorm2d       | 1 K   \n",
      "300 | net.features.stage5.unit1.conv2.activ   | Swish             | 0     \n",
      "301 | net.features.stage5.unit1.se            | SEBlock           | 43 K  \n",
      "302 | net.features.stage5.unit1.se.pool       | AdaptiveAvgPool2d | 0     \n",
      "303 | net.features.stage5.unit1.se.conv1      | Conv2d            | 21 K  \n",
      "304 | net.features.stage5.unit1.se.activ      | Swish             | 0     \n",
      "305 | net.features.stage5.unit1.se.conv2      | Conv2d            | 22 K  \n",
      "306 | net.features.stage5.unit1.se.sigmoid    | Sigmoid           | 0     \n",
      "307 | net.features.stage5.unit1.conv3         | ConvBlock         | 150 K \n",
      "308 | net.features.stage5.unit1.conv3.conv    | Conv2d            | 149 K \n",
      "309 | net.features.stage5.unit1.conv3.bn      | BatchNorm2d       | 416   \n",
      "310 | net.features.stage5.unit2               | EffiInvResUnit    | 686 K \n",
      "311 | net.features.stage5.unit2.conv1         | ConvBlock         | 262 K \n",
      "312 | net.features.stage5.unit2.conv1.conv    | Conv2d            | 259 K \n",
      "313 | net.features.stage5.unit2.conv1.bn      | BatchNorm2d       | 2 K   \n",
      "314 | net.features.stage5.unit2.conv1.activ   | Swish             | 0     \n",
      "315 | net.features.stage5.unit2.conv2         | ConvBlock         | 33 K  \n",
      "316 | net.features.stage5.unit2.conv2.conv    | Conv2d            | 31 K  \n",
      "317 | net.features.stage5.unit2.conv2.bn      | BatchNorm2d       | 2 K   \n",
      "318 | net.features.stage5.unit2.conv2.activ   | Swish             | 0     \n",
      "319 | net.features.stage5.unit2.se            | SEBlock           | 131 K \n",
      "320 | net.features.stage5.unit2.se.pool       | AdaptiveAvgPool2d | 0     \n",
      "321 | net.features.stage5.unit2.se.conv1      | Conv2d            | 64 K  \n",
      "322 | net.features.stage5.unit2.se.activ      | Swish             | 0     \n",
      "323 | net.features.stage5.unit2.se.conv2      | Conv2d            | 66 K  \n",
      "324 | net.features.stage5.unit2.se.sigmoid    | Sigmoid           | 0     \n",
      "325 | net.features.stage5.unit2.conv3         | ConvBlock         | 260 K \n",
      "326 | net.features.stage5.unit2.conv3.conv    | Conv2d            | 259 K \n",
      "327 | net.features.stage5.unit2.conv3.bn      | BatchNorm2d       | 416   \n",
      "328 | net.features.stage5.unit3               | EffiInvResUnit    | 686 K \n",
      "329 | net.features.stage5.unit3.conv1         | ConvBlock         | 262 K \n",
      "330 | net.features.stage5.unit3.conv1.conv    | Conv2d            | 259 K \n",
      "331 | net.features.stage5.unit3.conv1.bn      | BatchNorm2d       | 2 K   \n",
      "332 | net.features.stage5.unit3.conv1.activ   | Swish             | 0     \n",
      "333 | net.features.stage5.unit3.conv2         | ConvBlock         | 33 K  \n",
      "334 | net.features.stage5.unit3.conv2.conv    | Conv2d            | 31 K  \n",
      "335 | net.features.stage5.unit3.conv2.bn      | BatchNorm2d       | 2 K   \n",
      "336 | net.features.stage5.unit3.conv2.activ   | Swish             | 0     \n",
      "337 | net.features.stage5.unit3.se            | SEBlock           | 131 K \n",
      "338 | net.features.stage5.unit3.se.pool       | AdaptiveAvgPool2d | 0     \n",
      "339 | net.features.stage5.unit3.se.conv1      | Conv2d            | 64 K  \n",
      "340 | net.features.stage5.unit3.se.activ      | Swish             | 0     \n",
      "341 | net.features.stage5.unit3.se.conv2      | Conv2d            | 66 K  \n",
      "342 | net.features.stage5.unit3.se.sigmoid    | Sigmoid           | 0     \n",
      "343 | net.features.stage5.unit3.conv3         | ConvBlock         | 260 K \n",
      "344 | net.features.stage5.unit3.conv3.conv    | Conv2d            | 259 K \n",
      "345 | net.features.stage5.unit3.conv3.bn      | BatchNorm2d       | 416   \n",
      "346 | net.features.stage5.unit4               | EffiInvResUnit    | 686 K \n",
      "347 | net.features.stage5.unit4.conv1         | ConvBlock         | 262 K \n",
      "348 | net.features.stage5.unit4.conv1.conv    | Conv2d            | 259 K \n",
      "349 | net.features.stage5.unit4.conv1.bn      | BatchNorm2d       | 2 K   \n",
      "350 | net.features.stage5.unit4.conv1.activ   | Swish             | 0     \n",
      "351 | net.features.stage5.unit4.conv2         | ConvBlock         | 33 K  \n",
      "352 | net.features.stage5.unit4.conv2.conv    | Conv2d            | 31 K  \n",
      "353 | net.features.stage5.unit4.conv2.bn      | BatchNorm2d       | 2 K   \n",
      "354 | net.features.stage5.unit4.conv2.activ   | Swish             | 0     \n",
      "355 | net.features.stage5.unit4.se            | SEBlock           | 131 K \n",
      "356 | net.features.stage5.unit4.se.pool       | AdaptiveAvgPool2d | 0     \n",
      "357 | net.features.stage5.unit4.se.conv1      | Conv2d            | 64 K  \n",
      "358 | net.features.stage5.unit4.se.activ      | Swish             | 0     \n",
      "359 | net.features.stage5.unit4.se.conv2      | Conv2d            | 66 K  \n",
      "360 | net.features.stage5.unit4.se.sigmoid    | Sigmoid           | 0     \n",
      "361 | net.features.stage5.unit4.conv3         | ConvBlock         | 260 K \n",
      "362 | net.features.stage5.unit4.conv3.conv    | Conv2d            | 259 K \n",
      "363 | net.features.stage5.unit4.conv3.bn      | BatchNorm2d       | 416   \n",
      "364 | net.features.stage5.unit5               | EffiInvResUnit    | 686 K \n",
      "365 | net.features.stage5.unit5.conv1         | ConvBlock         | 262 K \n",
      "366 | net.features.stage5.unit5.conv1.conv    | Conv2d            | 259 K \n",
      "367 | net.features.stage5.unit5.conv1.bn      | BatchNorm2d       | 2 K   \n",
      "368 | net.features.stage5.unit5.conv1.activ   | Swish             | 0     \n",
      "369 | net.features.stage5.unit5.conv2         | ConvBlock         | 33 K  \n",
      "370 | net.features.stage5.unit5.conv2.conv    | Conv2d            | 31 K  \n",
      "371 | net.features.stage5.unit5.conv2.bn      | BatchNorm2d       | 2 K   \n",
      "372 | net.features.stage5.unit5.conv2.activ   | Swish             | 0     \n",
      "373 | net.features.stage5.unit5.se            | SEBlock           | 131 K \n",
      "374 | net.features.stage5.unit5.se.pool       | AdaptiveAvgPool2d | 0     \n",
      "375 | net.features.stage5.unit5.se.conv1      | Conv2d            | 64 K  \n",
      "376 | net.features.stage5.unit5.se.activ      | Swish             | 0     \n",
      "377 | net.features.stage5.unit5.se.conv2      | Conv2d            | 66 K  \n",
      "378 | net.features.stage5.unit5.se.sigmoid    | Sigmoid           | 0     \n",
      "379 | net.features.stage5.unit5.conv3         | ConvBlock         | 260 K \n",
      "380 | net.features.stage5.unit5.conv3.conv    | Conv2d            | 259 K \n",
      "381 | net.features.stage5.unit5.conv3.bn      | BatchNorm2d       | 416   \n",
      "382 | net.features.stage5.unit6               | EffiInvResUnit    | 846 K \n",
      "383 | net.features.stage5.unit6.conv1         | ConvBlock         | 262 K \n",
      "384 | net.features.stage5.unit6.conv1.conv    | Conv2d            | 259 K \n",
      "385 | net.features.stage5.unit6.conv1.bn      | BatchNorm2d       | 2 K   \n",
      "386 | net.features.stage5.unit6.conv1.activ   | Swish             | 0     \n",
      "387 | net.features.stage5.unit6.conv2         | ConvBlock         | 13 K  \n",
      "388 | net.features.stage5.unit6.conv2.conv    | Conv2d            | 11 K  \n",
      "389 | net.features.stage5.unit6.conv2.bn      | BatchNorm2d       | 2 K   \n",
      "390 | net.features.stage5.unit6.conv2.activ   | Swish             | 0     \n",
      "391 | net.features.stage5.unit6.se            | SEBlock           | 131 K \n",
      "392 | net.features.stage5.unit6.se.pool       | AdaptiveAvgPool2d | 0     \n",
      "393 | net.features.stage5.unit6.se.conv1      | Conv2d            | 64 K  \n",
      "394 | net.features.stage5.unit6.se.activ      | Swish             | 0     \n",
      "395 | net.features.stage5.unit6.se.conv2      | Conv2d            | 66 K  \n",
      "396 | net.features.stage5.unit6.se.sigmoid    | Sigmoid           | 0     \n",
      "397 | net.features.stage5.unit6.conv3         | ConvBlock         | 440 K \n",
      "398 | net.features.stage5.unit6.conv3.conv    | Conv2d            | 439 K \n",
      "399 | net.features.stage5.unit6.conv3.bn      | BatchNorm2d       | 704   \n",
      "400 | net.features.stage5.unit7               | EffiInvResUnit    | 1 M   \n",
      "401 | net.features.stage5.unit7.conv1         | ConvBlock         | 747 K \n",
      "402 | net.features.stage5.unit7.conv1.conv    | Conv2d            | 743 K \n",
      "403 | net.features.stage5.unit7.conv1.bn      | BatchNorm2d       | 4 K   \n",
      "404 | net.features.stage5.unit7.conv1.activ   | Swish             | 0     \n",
      "405 | net.features.stage5.unit7.conv2         | ConvBlock         | 23 K  \n",
      "406 | net.features.stage5.unit7.conv2.conv    | Conv2d            | 19 K  \n",
      "407 | net.features.stage5.unit7.conv2.bn      | BatchNorm2d       | 4 K   \n",
      "408 | net.features.stage5.unit7.conv2.activ   | Swish             | 0     \n",
      "409 | net.features.stage5.unit7.se            | SEBlock           | 373 K \n",
      "410 | net.features.stage5.unit7.se.pool       | AdaptiveAvgPool2d | 0     \n",
      "411 | net.features.stage5.unit7.se.conv1      | Conv2d            | 185 K \n",
      "412 | net.features.stage5.unit7.se.activ      | Swish             | 0     \n",
      "413 | net.features.stage5.unit7.se.conv2      | Conv2d            | 187 K \n",
      "414 | net.features.stage5.unit7.se.sigmoid    | Sigmoid           | 0     \n",
      "415 | net.features.stage5.unit7.conv3         | ConvBlock         | 744 K \n",
      "416 | net.features.stage5.unit7.conv3.conv    | Conv2d            | 743 K \n",
      "417 | net.features.stage5.unit7.conv3.bn      | BatchNorm2d       | 704   \n",
      "418 | net.features.final_block                | ConvBlock         | 498 K \n",
      "419 | net.features.final_block.conv           | Conv2d            | 495 K \n",
      "420 | net.features.final_block.bn             | BatchNorm2d       | 2 K   \n",
      "421 | net.features.final_block.activ          | Swish             | 0     \n",
      "422 | net.features.final_pool                 | AdaptiveAvgPool2d | 0     \n",
      "423 | net.output                              | Sequential        | 1 K   \n",
      "424 | net.output.dropout                      | Dropout           | 0     \n",
      "425 | net.output.fc                           | Linear            | 1 K   \n"
     ]
    },
    {
     "data": {
      "application/vnd.jupyter.widget-view+json": {
       "model_id": "",
       "version_major": 2,
       "version_minor": 0
      },
      "text/plain": [
       "HBox(children=(FloatProgress(value=1.0, bar_style='info', description='Validation sanity check', layout=Layout…"
      ]
     },
     "metadata": {},
     "output_type": "display_data"
    },
    {
     "data": {
      "application/vnd.jupyter.widget-view+json": {
       "model_id": "4c9c8f204cc045c4a85a9c1de3b80a39",
       "version_major": 2,
       "version_minor": 0
      },
      "text/plain": [
       "HBox(children=(FloatProgress(value=1.0, bar_style='info', description='Training', layout=Layout(flex='2'), max…"
      ]
     },
     "metadata": {},
     "output_type": "display_data"
    },
    {
     "data": {
      "application/vnd.jupyter.widget-view+json": {
       "model_id": "",
       "version_major": 2,
       "version_minor": 0
      },
      "text/plain": [
       "HBox(children=(FloatProgress(value=1.0, bar_style='info', description='Validating', layout=Layout(flex='2'), m…"
      ]
     },
     "metadata": {},
     "output_type": "display_data"
    },
    {
     "data": {
      "application/vnd.jupyter.widget-view+json": {
       "model_id": "",
       "version_major": 2,
       "version_minor": 0
      },
      "text/plain": [
       "HBox(children=(FloatProgress(value=1.0, bar_style='info', description='Validating', layout=Layout(flex='2'), m…"
      ]
     },
     "metadata": {},
     "output_type": "display_data"
    },
    {
     "data": {
      "application/vnd.jupyter.widget-view+json": {
       "model_id": "",
       "version_major": 2,
       "version_minor": 0
      },
      "text/plain": [
       "HBox(children=(FloatProgress(value=1.0, bar_style='info', description='Validating', layout=Layout(flex='2'), m…"
      ]
     },
     "metadata": {},
     "output_type": "display_data"
    },
    {
     "data": {
      "application/vnd.jupyter.widget-view+json": {
       "model_id": "",
       "version_major": 2,
       "version_minor": 0
      },
      "text/plain": [
       "HBox(children=(FloatProgress(value=1.0, bar_style='info', description='Validating', layout=Layout(flex='2'), m…"
      ]
     },
     "metadata": {},
     "output_type": "display_data"
    },
    {
     "data": {
      "application/vnd.jupyter.widget-view+json": {
       "model_id": "",
       "version_major": 2,
       "version_minor": 0
      },
      "text/plain": [
       "HBox(children=(FloatProgress(value=1.0, bar_style='info', description='Validating', layout=Layout(flex='2'), m…"
      ]
     },
     "metadata": {},
     "output_type": "display_data"
    },
    {
     "data": {
      "application/vnd.jupyter.widget-view+json": {
       "model_id": "",
       "version_major": 2,
       "version_minor": 0
      },
      "text/plain": [
       "HBox(children=(FloatProgress(value=1.0, bar_style='info', description='Validating', layout=Layout(flex='2'), m…"
      ]
     },
     "metadata": {},
     "output_type": "display_data"
    },
    {
     "name": "stderr",
     "output_type": "stream",
     "text": [
      "IOPub message rate exceeded.\n",
      "The notebook server will temporarily stop sending output\n",
      "to the client in order to avoid crashing it.\n",
      "To change this limit, set the config variable\n",
      "`--NotebookApp.iopub_msg_rate_limit`.\n",
      "\n",
      "Current values:\n",
      "NotebookApp.iopub_msg_rate_limit=1000.0 (msgs/sec)\n",
      "NotebookApp.rate_limit_window=3.0 (secs)\n",
      "\n"
     ]
    },
    {
     "data": {
      "application/vnd.jupyter.widget-view+json": {
       "model_id": "",
       "version_major": 2,
       "version_minor": 0
      },
      "text/plain": [
       "HBox(children=(FloatProgress(value=1.0, bar_style='info', description='Validating', layout=Layout(flex='2'), m…"
      ]
     },
     "metadata": {},
     "output_type": "display_data"
    },
    {
     "data": {
      "application/vnd.jupyter.widget-view+json": {
       "model_id": "",
       "version_major": 2,
       "version_minor": 0
      },
      "text/plain": [
       "HBox(children=(FloatProgress(value=1.0, bar_style='info', description='Validating', layout=Layout(flex='2'), m…"
      ]
     },
     "metadata": {},
     "output_type": "display_data"
    },
    {
     "data": {
      "application/vnd.jupyter.widget-view+json": {
       "model_id": "",
       "version_major": 2,
       "version_minor": 0
      },
      "text/plain": [
       "HBox(children=(FloatProgress(value=1.0, bar_style='info', description='Validating', layout=Layout(flex='2'), m…"
      ]
     },
     "metadata": {},
     "output_type": "display_data"
    },
    {
     "data": {
      "application/vnd.jupyter.widget-view+json": {
       "model_id": "",
       "version_major": 2,
       "version_minor": 0
      },
      "text/plain": [
       "HBox(children=(FloatProgress(value=1.0, bar_style='info', description='Validating', layout=Layout(flex='2'), m…"
      ]
     },
     "metadata": {},
     "output_type": "display_data"
    },
    {
     "data": {
      "application/vnd.jupyter.widget-view+json": {
       "model_id": "",
       "version_major": 2,
       "version_minor": 0
      },
      "text/plain": [
       "HBox(children=(FloatProgress(value=1.0, bar_style='info', description='Validating', layout=Layout(flex='2'), m…"
      ]
     },
     "metadata": {},
     "output_type": "display_data"
    },
    {
     "data": {
      "application/vnd.jupyter.widget-view+json": {
       "model_id": "44d024cd5e59478eb49a4d487919c6f0",
       "version_major": 2,
       "version_minor": 0
      },
      "text/plain": [
       "HBox(children=(FloatProgress(value=1.0, bar_style='info', description='Validating', layout=Layout(flex='2'), m…"
      ]
     },
     "metadata": {},
     "output_type": "display_data"
    }
   ],
   "source": [
    "checkpoint_callback = ModelCheckpoint(\n",
    "    filepath=\"./lightning_logs/\",\n",
    "    save_top_k=4,\n",
    "    verbose=False,\n",
    "    monitor='val_loss',\n",
    "    mode='min',\n",
    ")\n",
    "\n",
    "early_stop_callback = EarlyStopping(\n",
    "   monitor='val_loss',\n",
    "   min_delta=0.00,\n",
    "   patience=20,\n",
    "   verbose=True,\n",
    "   mode='min'\n",
    ")\n",
    "\n",
    "\n",
    "# train\n",
    "model = MelanomaModel(ds_train, ds_val) \n",
    "\n",
    "trainer = pl.Trainer(max_epochs=100000, checkpoint_callback=checkpoint_callback,\n",
    "                     early_stop_callback=early_stop_callback, gpus=[4,5])\n",
    "\n",
    "trainer.fit(model)\n"
   ]
  },
  {
   "cell_type": "markdown",
   "metadata": {},
   "source": [
    "#### inference"
   ]
  },
  {
   "cell_type": "code",
   "execution_count": 11,
   "metadata": {
    "ExecuteTime": {
     "end_time": "2020-07-31T02:01:31.231242Z",
     "start_time": "2020-07-31T02:01:30.688478Z"
    }
   },
   "outputs": [
    {
     "name": "stderr",
     "output_type": "stream",
     "text": [
      "ERROR:root:Internal Python error in the inspect module.\n",
      "Below is the traceback from this internal error.\n",
      "\n",
      "INFO:root:\n",
      "Unfortunately, your original traceback can not be constructed.\n",
      "\n"
     ]
    },
    {
     "name": "stdout",
     "output_type": "stream",
     "text": [
      "Traceback (most recent call last):\n",
      "  File \"/home/sano/env36/lib/python3.6/site-packages/IPython/core/interactiveshell.py\", line 3331, in run_code\n",
      "    exec(code_obj, self.user_global_ns, self.user_ns)\n",
      "  File \"<ipython-input-11-a549be9bb6fe>\", line 1, in <module>\n",
      "    trainer.test(model)\n",
      "  File \"/home/sano/env36/lib/python3.6/site-packages/pytorch_lightning/trainer/trainer.py\", line 958, in test\n",
      "    self.fit(model)\n",
      "  File \"/home/sano/env36/lib/python3.6/site-packages/pytorch_lightning/trainer/trainer.py\", line 759, in fit\n",
      "    self.dp_train(model)\n",
      "  File \"/home/sano/env36/lib/python3.6/site-packages/pytorch_lightning/trainer/distrib_parts.py\", line 563, in dp_train\n",
      "    self.run_pretrain_routine(model)\n",
      "  File \"/home/sano/env36/lib/python3.6/site-packages/pytorch_lightning/trainer/trainer.py\", line 874, in run_pretrain_routine\n",
      "    self.restore_weights(model)\n",
      "  File \"/home/sano/env36/lib/python3.6/site-packages/pytorch_lightning/trainer/training_io.py\", line 155, in restore_weights\n",
      "    torch.cuda.empty_cache()\n",
      "  File \"/home/sano/env36/lib/python3.6/site-packages/torch/cuda/memory.py\", line 86, in empty_cache\n",
      "    torch._C._cuda_emptyCache()\n",
      "KeyboardInterrupt\n",
      "\n",
      "During handling of the above exception, another exception occurred:\n",
      "\n",
      "Traceback (most recent call last):\n",
      "  File \"/home/sano/env36/lib/python3.6/site-packages/IPython/core/interactiveshell.py\", line 2044, in showtraceback\n",
      "    stb = value._render_traceback_()\n",
      "AttributeError: 'KeyboardInterrupt' object has no attribute '_render_traceback_'\n",
      "\n",
      "During handling of the above exception, another exception occurred:\n",
      "\n",
      "Traceback (most recent call last):\n",
      "  File \"/home/sano/env36/lib/python3.6/site-packages/IPython/core/ultratb.py\", line 1151, in get_records\n",
      "    return _fixed_getinnerframes(etb, number_of_lines_of_context, tb_offset)\n",
      "  File \"/home/sano/env36/lib/python3.6/site-packages/IPython/core/ultratb.py\", line 319, in wrapped\n",
      "    return f(*args, **kwargs)\n",
      "  File \"/home/sano/env36/lib/python3.6/site-packages/IPython/core/ultratb.py\", line 353, in _fixed_getinnerframes\n",
      "    records = fix_frame_records_filenames(inspect.getinnerframes(etb, context))\n",
      "  File \"/usr/lib/python3.6/inspect.py\", line 1490, in getinnerframes\n",
      "    frameinfo = (tb.tb_frame,) + getframeinfo(tb, context)\n",
      "  File \"/usr/lib/python3.6/inspect.py\", line 1448, in getframeinfo\n",
      "    filename = getsourcefile(frame) or getfile(frame)\n",
      "  File \"/usr/lib/python3.6/inspect.py\", line 696, in getsourcefile\n",
      "    if getattr(getmodule(object, filename), '__loader__', None) is not None:\n",
      "  File \"/usr/lib/python3.6/inspect.py\", line 733, in getmodule\n",
      "    if ismodule(module) and hasattr(module, '__file__'):\n",
      "KeyboardInterrupt\n"
     ]
    },
    {
     "ename": "KeyboardInterrupt",
     "evalue": "",
     "output_type": "error",
     "traceback": [
      "\u001b[0;31m---------------------------------------------------------------------------\u001b[0m"
     ]
    }
   ],
   "source": [
    "trainer.test(model)"
   ]
  },
  {
   "cell_type": "code",
   "execution_count": null,
   "metadata": {
    "ExecuteTime": {
     "end_time": "2020-07-31T02:01:31.235357Z",
     "start_time": "2020-07-31T01:07:43.103Z"
    }
   },
   "outputs": [],
   "source": [
    "submission = pd.read_csv(f\"{DATA_PATH}sample_submission.csv\")\n",
    "submission[\"target\"] = model.test_predicts.squeeze()"
   ]
  },
  {
   "cell_type": "markdown",
   "metadata": {},
   "source": [
    "#### save"
   ]
  },
  {
   "cell_type": "code",
   "execution_count": null,
   "metadata": {
    "ExecuteTime": {
     "end_time": "2020-07-31T02:01:31.237870Z",
     "start_time": "2020-07-31T01:07:44.216Z"
    }
   },
   "outputs": [],
   "source": [
    "SAVE_PATH = \"../output/\"\n",
    "submission.to_csv(f\"{SAVE_PATH}submission.csv\", index=False)"
   ]
  },
  {
   "cell_type": "code",
   "execution_count": null,
   "metadata": {
    "ExecuteTime": {
     "end_time": "2020-07-31T02:01:31.239637Z",
     "start_time": "2020-07-31T01:07:44.754Z"
    }
   },
   "outputs": [],
   "source": [
    "model.current_epoch"
   ]
  },
  {
   "cell_type": "code",
   "execution_count": null,
   "metadata": {},
   "outputs": [],
   "source": []
  },
  {
   "cell_type": "code",
   "execution_count": null,
   "metadata": {},
   "outputs": [],
   "source": []
  },
  {
   "cell_type": "code",
   "execution_count": null,
   "metadata": {},
   "outputs": [],
   "source": [
    " \n",
    "#画像と対応する行がin\n",
    "\n",
    "    # tableの推論\n",
    "    x1 = mlp１(series)\n",
    "    \n",
    "    # 画像の推論\n",
    "    model.eval()\n",
    "    with torch.no_grad():\n",
    "        x2 = model.get_feature(image) \n",
    "    \n",
    "    #　くっつける\n",
    "    x_cat = torch.cat([x1,x2])\n",
    "    \n",
    "    #　予測\n",
    "    logits = mlp2(x_cat)\n",
    "    "
   ]
  }
 ],
 "metadata": {
  "file_extension": ".py",
  "kernelspec": {
   "display_name": "Python 3",
   "language": "python",
   "name": "python3"
  },
  "language_info": {
   "codemirror_mode": {
    "name": "ipython",
    "version": 3
   },
   "file_extension": ".py",
   "mimetype": "text/x-python",
   "name": "python",
   "nbconvert_exporter": "python",
   "pygments_lexer": "ipython3",
   "version": "3.6.8"
  },
  "mimetype": "text/x-python",
  "name": "python",
  "npconvert_exporter": "python",
  "pygments_lexer": "ipython3",
  "toc": {
   "base_numbering": 1,
   "nav_menu": {},
   "number_sections": true,
   "sideBar": true,
   "skip_h1_title": false,
   "title_cell": "Table of Contents",
   "title_sidebar": "Contents",
   "toc_cell": false,
   "toc_position": {
    "height": "calc(100% - 180px)",
    "left": "10px",
    "top": "150px",
    "width": "165px"
   },
   "toc_section_display": true,
   "toc_window_display": true
  },
  "version": 3
 },
 "nbformat": 4,
 "nbformat_minor": 2
}

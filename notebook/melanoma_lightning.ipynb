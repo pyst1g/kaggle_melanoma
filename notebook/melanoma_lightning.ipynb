{
 "cells": [
  {
   "cell_type": "code",
   "execution_count": 1,
   "metadata": {
    "ExecuteTime": {
     "end_time": "2020-08-05T05:42:56.362844Z",
     "start_time": "2020-08-05T05:42:54.326447Z"
    }
   },
   "outputs": [],
   "source": [
    "import os\n",
    "import sys\n",
    "import warnings\n",
    "from datetime import datetime\n",
    "\n",
    "import albumentations as A\n",
    "import cv2\n",
    "import matplotlib.pyplot as plt\n",
    "import numpy as np\n",
    "import pandas as pd\n",
    "import pytorch_lightning as pl\n",
    "import scipy\n",
    "import seaborn as sns\n",
    "import torch\n",
    "from albumentations.pytorch.transforms import ToTensorV2\n",
    "# from packages.lpproj_LPP import LocalityPreservingProjection\n",
    "from lpproj import LocalityPreservingProjection\n",
    "from pytorch_lightning.callbacks import EarlyStopping, ModelCheckpoint\n",
    "from pytorch_lightning.logging import TensorBoardLogger\n",
    "from pytorchcv.model_provider import get_model as ptcv_get_model\n",
    "# from utils import *\n",
    "from scipy import linalg\n",
    "from sklearn.metrics import log_loss, roc_auc_score\n",
    "from torch import nn\n",
    "from torch.nn import functional as F\n",
    "from torch.utils.data import DataLoader, Dataset, random_split\n",
    "from torchvision import datasets, models, transforms\n",
    "from torchvision.datasets import MNIST\n",
    "\n",
    "sys.path.append('../scripts')\n",
    "\n",
    "warnings.filterwarnings('ignore')\n",
    "\n",
    "\n",
    "now = datetime.now().strftime(\"%m%d%H%M\")"
   ]
  },
  {
   "cell_type": "markdown",
   "metadata": {},
   "source": [
    "#### variable"
   ]
  },
  {
   "cell_type": "code",
   "execution_count": 2,
   "metadata": {
    "ExecuteTime": {
     "end_time": "2020-08-05T05:42:56.376801Z",
     "start_time": "2020-08-05T05:42:56.366872Z"
    }
   },
   "outputs": [],
   "source": [
    "fold_number = 0\n",
    "batch_size = 256\n",
    "use_external = True\n",
    "gpus = [0,1,2,3]\n",
    "\n",
    "\n",
    "ROOT_PATH = '..'\n",
    "DATA_PATH = f'{ROOT_PATH}/input/jpeg-melanoma-512x512/'\n",
    "EXT_DATA_PATH = f'{ROOT_PATH}/input/jpeg-isic2019-512x512/'\n",
    "TRAIN_ROOT_PATH = f'{DATA_PATH}/train'\n",
    "EXT_TRAIN_ROOT_PATH = f'{EXT_DATA_PATH}/train'\n",
    "TEST_ROOT_PATH = f'{DATA_PATH}/test'\n",
    "CKPT_PATH = f'{ROOT_PATH}/checkpoints/fold{fold_number}_{now}'\n",
    "LOG_PATH = f'{ROOT_PATH}/logs/fold{fold_number}_{now}'\n",
    "\n",
    "FEATURES = [\"sex\", \"age_approx\", \"width\", \"height\", \"anatom_site_general_challenge\"]"
   ]
  },
  {
   "cell_type": "markdown",
   "metadata": {
    "ExecuteTime": {
     "end_time": "2020-07-30T02:11:44.633458Z",
     "start_time": "2020-07-30T02:11:44.629071Z"
    }
   },
   "source": [
    "#### data load "
   ]
  },
  {
   "cell_type": "code",
   "execution_count": 3,
   "metadata": {
    "ExecuteTime": {
     "end_time": "2020-08-05T05:42:56.891053Z",
     "start_time": "2020-08-05T05:42:56.380140Z"
    }
   },
   "outputs": [
    {
     "data": {
      "text/html": [
       "<div>\n",
       "<style scoped>\n",
       "    .dataframe tbody tr th:only-of-type {\n",
       "        vertical-align: middle;\n",
       "    }\n",
       "\n",
       "    .dataframe tbody tr th {\n",
       "        vertical-align: top;\n",
       "    }\n",
       "\n",
       "    .dataframe thead th {\n",
       "        text-align: right;\n",
       "    }\n",
       "</style>\n",
       "<table border=\"1\" class=\"dataframe\">\n",
       "  <thead>\n",
       "    <tr style=\"text-align: right;\">\n",
       "      <th>fold</th>\n",
       "      <th>0</th>\n",
       "      <th>1</th>\n",
       "      <th>2</th>\n",
       "    </tr>\n",
       "  </thead>\n",
       "  <tbody>\n",
       "    <tr>\n",
       "      <th>ratio</th>\n",
       "      <td>0.08793</td>\n",
       "      <td>0.08749</td>\n",
       "      <td>0.086636</td>\n",
       "    </tr>\n",
       "  </tbody>\n",
       "</table>\n",
       "</div>"
      ],
      "text/plain": [
       "fold         0        1         2\n",
       "ratio  0.08793  0.08749  0.086636"
      ]
     },
     "execution_count": 3,
     "metadata": {},
     "output_type": "execute_result"
    },
    {
     "data": {
      "image/png": "[encoded data removed]",
      "text/plain": [
       "<Figure size 432x288 with 1 Axes>"
      ]
     },
     "metadata": {
      "needs_background": "light"
     },
     "output_type": "display_data"
    }
   ],
   "source": [
    "df_train = pd.read_csv(f'{DATA_PATH}/train.csv', index_col=\"image_name\")\n",
    "df_ext = pd.read_csv(f'{EXT_DATA_PATH}/train.csv', index_col=\"image_name\")\n",
    "\n",
    "df_train[\"data_path\"] = TRAIN_ROOT_PATH\n",
    "df_ext[\"data_path\"] = EXT_TRAIN_ROOT_PATH\n",
    "\n",
    "df_train = pd.concat([df_train, df_ext])\n",
    "df_train[\"fold\"] = df_train[\"tfrecord\"] %3\n",
    "\n",
    "df_train = df_train.drop(\"tfrecord\", axis=1)\n",
    "\n",
    "df_test = pd.read_csv(f'{DATA_PATH}/test.csv', index_col=\"image_name\")\n",
    "df_test[\"data_path\"] = f\"{DATA_PATH}/test\"\n",
    "\n",
    "_ = df_train.groupby('fold').target.hist(alpha=0.4)\n",
    "df_train.groupby('fold').target.mean().to_frame('ratio').T\n"
   ]
  },
  {
   "cell_type": "markdown",
   "metadata": {},
   "source": [
    "#### tableデータの特徴量エンジニアリング"
   ]
  },
  {
   "cell_type": "code",
   "execution_count": 4,
   "metadata": {
    "ExecuteTime": {
     "end_time": "2020-08-05T05:42:57.235117Z",
     "start_time": "2020-08-05T05:42:56.894525Z"
    }
   },
   "outputs": [],
   "source": [
    "df_concat = pd.concat([df_train, df_test])\n",
    "df_concat[\"sex\"] = (df_concat[\"sex\"] ==\"male\")\n",
    "df_concat[\"age_approx\"] = df_concat[\"age_approx\"].fillna(df_concat[\"age_approx\"].mean())\n",
    "df_concat[\"anatom_site_general_challenge\"] = df_concat[\"anatom_site_general_challenge\"].fillna(\"unknown\")\n",
    "df_concat[\"anatom_site_general_challenge\"] = df_concat[\"anatom_site_general_challenge\"].map(dict(df_concat[\"anatom_site_general_challenge\"].value_counts()))\n",
    "df_concat[FEATURES] = (df_concat[FEATURES] - df_concat[FEATURES].mean()) / df_concat[FEATURES].std()\n",
    "\n",
    "df_train = df_concat.loc[df_train.index]\n",
    "df_test = df_concat.loc[df_test.index, df_test.columns]"
   ]
  },
  {
   "cell_type": "code",
   "execution_count": 5,
   "metadata": {
    "ExecuteTime": {
     "end_time": "2020-08-05T05:42:57.239209Z",
     "start_time": "2020-08-05T05:42:57.236738Z"
    },
    "code_folding": [
     0
    ]
   },
   "outputs": [],
   "source": [
    "# DATA_PATH = '../input/melanoma-merged-external-data-512x512-jpeg'\n",
    "# TRAIN_ROOT_PATH = f'{DATA_PATH}/512x512-dataset-melanoma/512x512-dataset-melanoma'\n",
    "# TEST_ROOT_PATH = f'{DATA_PATH}/512x512-test/512x512-test'\n",
    "\n",
    "# df_folds = pd.read_csv(f'{DATA_PATH}/folds.csv', index_col='image_id',\n",
    "#                        usecols=['image_id', 'fold', 'target'], dtype={'fold': np.byte, 'target': np.byte})\n",
    "\n",
    "# df_test = pd.read_csv(f'../input/siim-isic-melanoma-classification/test.csv', index_col='image_name')\n",
    "\n",
    "# _ = df_folds.groupby('fold').target.hist(alpha=0.4)\n",
    "# df_folds.groupby('fold').target.mean().to_frame('ratio').T\n"
   ]
  },
  {
   "cell_type": "code",
   "execution_count": 6,
   "metadata": {
    "ExecuteTime": {
     "end_time": "2020-08-05T05:42:57.365975Z",
     "start_time": "2020-08-05T05:42:57.240590Z"
    }
   },
   "outputs": [],
   "source": [
    "resolution = 456\n",
    "input_res  = 512\n",
    "\n",
    "def get_train_transforms():\n",
    "    return A.Compose([\n",
    "#             A.JpegCompression(p=0.5),\n",
    "            A.Rotate(limit=45, p=1.0),\n",
    "            A.OneOf([\n",
    "                A.OpticalDistortion(),\n",
    "                A.GridDistortion(),\n",
    "                A.IAAPiecewiseAffine(),\n",
    "            ]),\n",
    "            A.RandomSizedCrop(min_max_height=(int(resolution*0.7), input_res),\n",
    "                              height=resolution, width=resolution, p=1.0),\n",
    "            A.HorizontalFlip(p=0.5),\n",
    "            A.VerticalFlip(p=0.5),\n",
    "            A.GaussianBlur(p=0.3),\n",
    "            A.OneOf([\n",
    "                A.RandomBrightnessContrast(),   \n",
    "                A.HueSaturationValue(),\n",
    "            ]),\n",
    "            A.Cutout(num_holes=8, max_h_size=resolution//8, max_w_size=resolution//8, fill_value=0, p=0.3),\n",
    "#             A.Normalize(),\n",
    "            ToTensorV2(),\n",
    "        ], p=1.0)\n",
    "\n",
    "def get_fe_transforms():\n",
    "    return A.Compose([\n",
    "            A.CenterCrop(height=resolution, width=resolution, p=1.0),\n",
    "#             A.Normalize(),\n",
    "            ToTensorV2(),\n",
    "        ], p=1.0)\n",
    "\n",
    "def get_valid_transforms():\n",
    "    return A.Compose([\n",
    "            A.CenterCrop(height=resolution, width=resolution, p=1.0),\n",
    "#             A.Normalize(),\n",
    "            ToTensorV2(),\n",
    "        ], p=1.0)\n",
    "\n",
    "def get_tta_transforms():\n",
    "    return A.Compose([\n",
    "#             A.JpegCompression(p=0.5),\n",
    "            A.CenterCrop(height=resolution, width=resolution, p=1.0),\n",
    "#             A.RandomSizedCrop(min_max_height=(int(resolution*0.9), int(resolution*1.1)),\n",
    "#                               height=resolution, width=resolution, p=1.0),\n",
    "#             A.HorizontalFlip(p=0.5),\n",
    "#             A.VerticalFlip(p=0.5),\n",
    "#             A.Transpose(p=0.5),\n",
    "#             A.Normalize(),\n",
    "            ToTensorV2(),\n",
    "        ], p=1.0)"
   ]
  },
  {
   "cell_type": "code",
   "execution_count": 7,
   "metadata": {
    "ExecuteTime": {
     "end_time": "2020-08-05T05:42:57.457895Z",
     "start_time": "2020-08-05T05:42:57.368349Z"
    }
   },
   "outputs": [],
   "source": [
    "class ImageDataset(Dataset):\n",
    "    def __init__(self, df, labels=None, transforms=None, mode=\"image\"):\n",
    "        super().__init__()\n",
    "#         self.path = path\n",
    "        self.df = df\n",
    "        self.image_ids = df.index.values\n",
    "        self.data_paths = df.data_path.values\n",
    "        self.labels = labels\n",
    "        self.transforms = transforms\n",
    "        self.mode = mode\n",
    "\n",
    "    def __getitem__(self, idx: int):\n",
    "        image_id = self.image_ids[idx]\n",
    "        data_path = self.data_paths[idx]\n",
    "        image = cv2.imread(f'{data_path}/{image_id}.jpg', cv2.IMREAD_COLOR)\n",
    "#         print(f'{data_path}/{image_id}.jpg')\n",
    "        if self.transforms:\n",
    "            sample = self.transforms(image=image)\n",
    "            image  = sample['image']\n",
    "            image = image.float()\n",
    "            \n",
    "\n",
    "        label = self.labels[idx] if self.labels is not None else 0.5\n",
    "\n",
    "        if self.mode==\"image\":\n",
    "            return image, label\n",
    "        else: \n",
    "            # self.mode==\"full\"\n",
    "            # imageとtable合わせて学習する場合\n",
    "            x = self.df.loc[image_id, FEATURES]\n",
    "            x = torch.tensor(x).float()\n",
    "            return image, x, label\n",
    "            \n",
    "\n",
    "    def __len__(self) -> int:\n",
    "        return self.image_ids.shape[0]\n",
    "\n",
    "    def get_labels(self):\n",
    "        return list(self.labels)"
   ]
  },
  {
   "cell_type": "code",
   "execution_count": 8,
   "metadata": {
    "ExecuteTime": {
     "end_time": "2020-08-05T05:42:57.603759Z",
     "start_time": "2020-08-05T05:42:57.460778Z"
    }
   },
   "outputs": [],
   "source": [
    "ds_train = ImageDataset(\n",
    "#     path=TRAIN_ROOT_PATH,\n",
    "    df=df_train[df_train['fold'] != fold_number],\n",
    "    labels=df_train[df_train['fold'] != fold_number].target.values,\n",
    "    transforms=get_train_transforms(),\n",
    ")\n",
    "\n",
    "ds_val = ImageDataset(\n",
    "#     path=TRAIN_ROOT_PATH,\n",
    "    # 外部データは除く\n",
    "    df=df_train[(df_train['fold'] == fold_number) & (df_train[\"data_path\"] ==TRAIN_ROOT_PATH)],\n",
    "    labels=df_train[(df_train['fold'] == fold_number) & (df_train[\"data_path\"] == TRAIN_ROOT_PATH)].target.values,\n",
    "    transforms=get_valid_transforms(),\n",
    ")\n",
    "\n",
    "ds_test = ImageDataset(\n",
    "#     path=TEST_ROOT_PATH,\n",
    "    df=df_test,\n",
    "    transforms=get_tta_transforms(),\n",
    ")\n",
    "\n",
    "ds_train2 = ImageDataset(\n",
    "#     path=TRAIN_ROOT_PATH,\n",
    "    df=df_train[df_train['fold'] != fold_number],\n",
    "    labels=df_train[df_train['fold'] != fold_number].target.values,\n",
    "    transforms=get_fe_transforms(),\n",
    "    mode = \"full\"\n",
    ")\n",
    "\n",
    "ds_val2 = ImageDataset(\n",
    "#     path=TRAIN_ROOT_PATH,\n",
    "    # 外部データは除く\n",
    "    df=df_train[(df_train['fold'] == fold_number) & (df_train[\"data_path\"] == TRAIN_ROOT_PATH)],\n",
    "    labels=df_train[(df_train['fold'] == fold_number) & (df_train[\"data_path\"] == TRAIN_ROOT_PATH)].target.values,\n",
    "    transforms=get_valid_transforms(),\n",
    "    mode = \"full\"\n",
    ")\n",
    "\n",
    "ds_test2 = ImageDataset(\n",
    "#     path=TEST_ROOT_PATH,\n",
    "    df=df_test,\n",
    "    transforms=get_tta_transforms(),\n",
    "    mode = \"full\"\n",
    ")\n",
    "\n",
    "ds_test_tta = ImageDataset(\n",
    "#     path=TEST_ROOT_PATH,\n",
    "    df=df_test,\n",
    "    transforms=get_train_transforms(),\n",
    "    mode = \"full\"\n",
    ")\n",
    "\n",
    "\n",
    "# del df_train\n",
    "# len(ds_train), len(ds_val), len(ds_test)"
   ]
  },
  {
   "cell_type": "code",
   "execution_count": 9,
   "metadata": {
    "ExecuteTime": {
     "end_time": "2020-08-05T05:42:57.644142Z",
     "start_time": "2020-08-05T05:42:57.605497Z"
    }
   },
   "outputs": [],
   "source": [
    "class ConcatModel(pl.LightningModule):\n",
    "\n",
    "    def __init__(self,image_model,  ds_train, ds_val,ds_test,  batch_size=64,):\n",
    "            \n",
    "        super(ConcatModel, self).__init__()\n",
    "        \n",
    "        self.image_model = image_model\n",
    "        self.ds_train = ds_train\n",
    "        self.ds_val = ds_val\n",
    "        self.ds_test = ds_test\n",
    "        self.batch_size = batch_size\n",
    "        self.input_dim = len(FEATURES)\n",
    "        self.val_logloss = list()\n",
    "        self.val_auc = list()\n",
    "            \n",
    "        # テーブルデータ用\n",
    "        self.layer1_1 = torch.nn.Linear(len(FEATURES), 64)     \n",
    "        self.layer1_2 = torch.nn.Linear(64, 16)\n",
    "        \n",
    "        #　 結合データ用\n",
    "        self.layer2_1 = torch.nn.Linear(self.image_model.n_map_features + self.layer1_2.out_features, 1024)     \n",
    "        self.layer2_2 = torch.nn.Linear(1024, 512)\n",
    "        self.layer2_3 = torch.nn.Linear(512, 256)\n",
    "        self.fc = torch.nn.Linear(256, 1)\n",
    "        \n",
    "        self.val_losses = list()\n",
    "\n",
    "        \n",
    "    def forward(self, image, x):\n",
    "        \n",
    "        # 画像の特徴量抽出\n",
    "        self.image_model.eval()\n",
    "        with torch.no_grad():\n",
    "            x1 = self.image_model(image, feature_extract=True) \n",
    "        \n",
    "        # tableの特徴量抽出\n",
    "        x2 = self.table_forward(x)\n",
    "        \n",
    "        #　くっつける\n",
    "        x_cat = torch.cat([x1,x2], dim=1)\n",
    "        \n",
    "        outputs = self.concat_forward(x_cat)\n",
    "        \n",
    "        \n",
    "        return outputs\n",
    "    \n",
    "    def table_forward(self, x):\n",
    "#         x = x.view(-1, self.input_dim)\n",
    "        # layer 1-1\n",
    "        x = self.layer1_1(x)\n",
    "        x = torch.relu(x)\n",
    "        # layer 1-2\n",
    "        x = self.layer1_2(x)\n",
    "        \n",
    "        return x\n",
    "        \n",
    "    def concat_forward(self, x):\n",
    "#         x = x.view(-1, self.input_dim)\n",
    "        # layer 2-1\n",
    "        x = self.layer2_1(x)\n",
    "        x = torch.relu(x)\n",
    "        # layer 2-2\n",
    "        x = self.layer2_2(x)\n",
    "        x = torch.relu(x)\n",
    "        # layer 2-3\n",
    "        x = self.layer2_3(x)\n",
    "        x = torch.relu(x)\n",
    "        x = self.fc(x)\n",
    "        \n",
    "        return x\n",
    "    \n",
    "    def loss_function(self, y_pred, y_true):\n",
    "        loss = nn.BCEWithLogitsLoss()\n",
    "        return loss(y_pred, y_true)\n",
    "    \n",
    "    def training_step(self, train_batch, batch_idx):\n",
    "        image, x, y_true = train_batch\n",
    "        y_pred = self(image, x).flatten()\n",
    "        loss = self.loss_function(y_pred, y_true.type_as(y_pred))\n",
    "\n",
    "        logs = {'train_loss': loss}\n",
    "        return {'loss': loss, 'log': logs}\n",
    "    \n",
    "    def validation_step(self, val_batch, batch_idx):\n",
    "        image, x, y_true = val_batch\n",
    "        logits = self(image, x)\n",
    "        y_pred = logits.flatten()\n",
    "        probs = torch.sigmoid(logits)\n",
    "#         loss = self.loss_function(y_pred, y_true.type_as(y_pred))\n",
    "#         return {'val_batch_loss': loss, 'probs':probs, 'y_true':y_true}\n",
    "        return {'probs':probs, 'y_true':y_true}\n",
    "\n",
    "    def validation_epoch_end(self, outputs):\n",
    "        # called at the end of the validation epoch\n",
    "        # outputs is an array with what you returned in validation_step for each batch\n",
    "        # outputs = [{'loss': batch_0_loss}, {'loss': batch_1_loss}, ..., {'loss': batch_n_loss}] \n",
    "        probs = torch.cat([out['probs'] for out in outputs], dim=0)\n",
    "        probs = probs.detach().cpu().numpy()\n",
    "        \n",
    "        y_true = torch.cat([out['y_true'] for out in outputs], dim=0)\n",
    "        y_true = y_true.detach().cpu().numpy()\n",
    "        \n",
    "        self.val_predicts = probs  # Save prediction internally for easy access\n",
    "        auc_score = roc_auc_score(y_true, probs)\n",
    "        cross_entropy = log_loss(y_true, probs)\n",
    "        \n",
    "        tensorboard_logs = {'valid_logloss': cross_entropy, 'valid_auc':auc_score}\n",
    "        self.val_logloss.append(cross_entropy)\n",
    "        self.val_auc.append(auc_score)\n",
    "        return {'val_loss': cross_entropy, 'log': tensorboard_logs}\n",
    "    \n",
    "    def test_step(self, batch, batch_idx):\n",
    "        image, x, _ = batch\n",
    "\n",
    "        logits = self(image, x)\n",
    "        probs = torch.sigmoid(logits)\n",
    "        \n",
    "        return {'probs': probs}\n",
    "    \n",
    "    def test_epoch_end(self, outputs):\n",
    "        probs = torch.cat([out['probs'] for out in outputs], dim=0)\n",
    "        probs = probs.detach().cpu().numpy()\n",
    "        self.test_predicts = probs  # Save prediction internally for easy access\n",
    "        # We need to return something \n",
    "        return {'dummy_item': 0}\n",
    "    \n",
    "    def prepare_data(self): \n",
    "        pass\n",
    "    \n",
    "    def train_dataloader(self): \n",
    "        return DataLoader(self.ds_train, batch_size=batch_size, num_workers=8, shuffle=True) \n",
    "\n",
    "    def val_dataloader(self): \n",
    "        return DataLoader(self.ds_val, batch_size=batch_size, num_workers=8) \n",
    "\n",
    "    def test_dataloader(self): \n",
    "        return DataLoader(self.ds_test, batch_size=batch_size, num_workers=8) \n",
    "\n",
    "    def configure_optimizers(self): \n",
    "        optimizer = torch.optim.Adam(self.parameters(), lr=1e-5) \n",
    "        return optimizer"
   ]
  },
  {
   "cell_type": "code",
   "execution_count": 10,
   "metadata": {
    "ExecuteTime": {
     "end_time": "2020-08-05T05:42:57.747297Z",
     "start_time": "2020-08-05T05:42:57.647311Z"
    }
   },
   "outputs": [],
   "source": [
    "class MelanomaModel(pl.LightningModule):\n",
    "\n",
    "    def __init__(self, ds_train, ds_val, ds_test, output_dim=None):\n",
    "            \n",
    "        super(MelanomaModel, self).__init__()\n",
    "        \n",
    "        self.ds_train = ds_train\n",
    "        self.ds_val = ds_val\n",
    "        self.ds_test = ds_test\n",
    "        self.val_logloss = list()\n",
    "        self.val_auc = list()\n",
    "\n",
    "#         resnet\n",
    "        self.net = models.resnet18(pretrained=True)\n",
    "        self.n_map_features = list(self.net.children())[-1].in_features\n",
    "        self.fc = nn.Linear(in_features=self.net.fc.in_features, out_features=1)\n",
    "        self.net.fc = nn.Identity()\n",
    "        \n",
    "#     #efficientnet\n",
    "#         self.net = ptcv_get_model(\"efficientnet_b2b\", pretrained=True)\n",
    "#         self.n_map_features = self.net.output.fc.in_features\n",
    "#         self.fc = nn.Linear(in_features=self.net.output.fc.in_features, out_features=1)\n",
    "#         self.net.output.fc = nn.Identity()\n",
    "\n",
    "        \n",
    "    def forward(self, x, feature_extract=False):\n",
    "        x = self.net(x)\n",
    "        if feature_extract:\n",
    "            return x\n",
    "        else:\n",
    "            x = self.fc(x)\n",
    "            return x\n",
    "    \n",
    "    def loss_function(self, y_pred, y_true):\n",
    "        loss = nn.BCEWithLogitsLoss()\n",
    "        return loss(y_pred, y_true)\n",
    "    \n",
    "    def training_step(self, train_batch, batch_idx):\n",
    "        x, y_true = train_batch\n",
    "        y_pred = self(x).flatten()\n",
    "        loss = self.loss_function(y_pred, y_true.type_as(y_pred))\n",
    "\n",
    "        logs = {'train_loss': loss}\n",
    "        return {'loss': loss, 'log': logs}\n",
    "\n",
    "    def validation_step(self, val_batch, batch_idx):\n",
    "        x, y_true = val_batch\n",
    "        logits = self(x)\n",
    "        y_pred = logits.flatten()\n",
    "        probs = torch.sigmoid(logits)\n",
    "#         loss = self.loss_function(y_pred, y_true.type_as(y_pred))\n",
    "#         return {'val_batch_loss': loss, 'probs':probs, 'y_true':y_true}\n",
    "        return {'probs':probs, 'y_true':y_true}\n",
    "\n",
    "    def validation_epoch_end(self, outputs):\n",
    "        # called at the end of the validation epoch\n",
    "        # outputs is an array with what you returned in validation_step for each batch\n",
    "        # outputs = [{'loss': batch_0_loss}, {'loss': batch_1_loss}, ..., {'loss': batch_n_loss}] \n",
    "        probs = torch.cat([out['probs'] for out in outputs], dim=0)\n",
    "        probs = probs.detach().cpu().numpy()\n",
    "        \n",
    "        y_true = torch.cat([out['y_true'] for out in outputs], dim=0)\n",
    "        y_true = y_true.detach().cpu().numpy()\n",
    "        \n",
    "        self.val_predicts = probs  # Save prediction internally for easy access\n",
    "        #from IPython.core.debugger import Pdb; Pdb().set_trace()\n",
    "        auc_score = roc_auc_score(y_true, probs)\n",
    "        cross_entropy = log_loss(y_true, probs)\n",
    "        \n",
    "        tensorboard_logs = {'valid_logloss': cross_entropy, 'valid_auc':auc_score}\n",
    "        self.val_logloss.append(cross_entropy)\n",
    "        self.val_auc.append(auc_score)\n",
    "        return {'val_loss': cross_entropy, 'log': tensorboard_logs}\n",
    "    \n",
    "    def test_step(self, batch, batch_idx):\n",
    "        x, _ = batch\n",
    "\n",
    "        logits = self(x)\n",
    "        probs = torch.sigmoid(logits)\n",
    "        \n",
    "        return {'probs': probs}\n",
    "    \n",
    "    def test_epoch_end(self, outputs):\n",
    "        probs = torch.cat([out['probs'] for out in outputs], dim=0)\n",
    "        probs = probs.detach().cpu().numpy()\n",
    "        self.test_predicts = probs  # Save prediction internally for easy access\n",
    "        # We need to return something \n",
    "        return {'dummy_item': 0}\n",
    "    \n",
    "    \n",
    "    def prepare_data(self): \n",
    "        pass\n",
    "    \n",
    "    def train_dataloader(self): \n",
    "        return DataLoader(self.ds_train, batch_size=batch_size, num_workers=4, shuffle=True) \n",
    "\n",
    "    def val_dataloader(self): \n",
    "        return DataLoader(self.ds_val, batch_size=batch_size, num_workers=4) \n",
    "\n",
    "    def test_dataloader(self): \n",
    "        return DataLoader(self.ds_test, batch_size=batch_size, num_workers=4) \n",
    "\n",
    "    def configure_optimizers(self): \n",
    "        optimizer = torch.optim.Adam(self.parameters(), lr=1e-5) \n",
    "        return optimizer \n"
   ]
  },
  {
   "cell_type": "code",
   "execution_count": null,
   "metadata": {
    "ExecuteTime": {
     "start_time": "2020-08-05T05:42:55.864Z"
    },
    "scrolled": true
   },
   "outputs": [
    {
     "name": "stderr",
     "output_type": "stream",
     "text": [
      "GPU available: True, used: True\n",
      "TPU available: False, using: 0 TPU cores\n",
      "CUDA_VISIBLE_DEVICES: [0,1,2,3]\n",
      "\n",
      "  | Name | Type   | Params\n",
      "--------------------------------\n",
      "0 | net  | ResNet | 11 M  \n",
      "1 | fc   | Linear | 513   \n"
     ]
    },
    {
     "data": {
      "application/vnd.jupyter.widget-view+json": {
       "model_id": "875b6c614a664785a0e8ca0be4acbb73",
       "version_major": 2,
       "version_minor": 0
      },
      "text/plain": [
       "HBox(children=(FloatProgress(value=1.0, bar_style='info', description='Training', layout=Layout(flex='2'), max…"
      ]
     },
     "metadata": {},
     "output_type": "display_data"
    },
    {
     "data": {
      "application/vnd.jupyter.widget-view+json": {
       "model_id": "",
       "version_major": 2,
       "version_minor": 0
      },
      "text/plain": [
       "HBox(children=(FloatProgress(value=1.0, bar_style='info', description='Validating', layout=Layout(flex='2'), m…"
      ]
     },
     "metadata": {},
     "output_type": "display_data"
    },
    {
     "name": "stderr",
     "output_type": "stream",
     "text": [
      "\n",
      "Epoch 00000: val_loss reached 0.13329 (best 0.13329), saving model to ../checkpoints/fold0_08051442/CNN/epoch=0.ckpt as top 4\n"
     ]
    },
    {
     "data": {
      "application/vnd.jupyter.widget-view+json": {
       "model_id": "",
       "version_major": 2,
       "version_minor": 0
      },
      "text/plain": [
       "HBox(children=(FloatProgress(value=1.0, bar_style='info', description='Validating', layout=Layout(flex='2'), m…"
      ]
     },
     "metadata": {},
     "output_type": "display_data"
    },
    {
     "name": "stderr",
     "output_type": "stream",
     "text": [
      "\n",
      "Epoch 00001: val_loss reached 0.08926 (best 0.08926), saving model to ../checkpoints/fold0_08051442/CNN/epoch=1.ckpt as top 4\n"
     ]
    },
    {
     "data": {
      "application/vnd.jupyter.widget-view+json": {
       "model_id": "",
       "version_major": 2,
       "version_minor": 0
      },
      "text/plain": [
       "HBox(children=(FloatProgress(value=1.0, bar_style='info', description='Validating', layout=Layout(flex='2'), m…"
      ]
     },
     "metadata": {},
     "output_type": "display_data"
    },
    {
     "name": "stderr",
     "output_type": "stream",
     "text": [
      "\n",
      "Epoch 00002: val_loss reached 0.09117 (best 0.08926), saving model to ../checkpoints/fold0_08051442/CNN/epoch=2.ckpt as top 4\n"
     ]
    },
    {
     "data": {
      "application/vnd.jupyter.widget-view+json": {
       "model_id": "",
       "version_major": 2,
       "version_minor": 0
      },
      "text/plain": [
       "HBox(children=(FloatProgress(value=1.0, bar_style='info', description='Validating', layout=Layout(flex='2'), m…"
      ]
     },
     "metadata": {},
     "output_type": "display_data"
    },
    {
     "name": "stderr",
     "output_type": "stream",
     "text": [
      "\n",
      "Epoch 00003: val_loss reached 0.07645 (best 0.07645), saving model to ../checkpoints/fold0_08051442/CNN/epoch=3.ckpt as top 4\n"
     ]
    },
    {
     "data": {
      "application/vnd.jupyter.widget-view+json": {
       "model_id": "",
       "version_major": 2,
       "version_minor": 0
      },
      "text/plain": [
       "HBox(children=(FloatProgress(value=1.0, bar_style='info', description='Validating', layout=Layout(flex='2'), m…"
      ]
     },
     "metadata": {},
     "output_type": "display_data"
    },
    {
     "name": "stderr",
     "output_type": "stream",
     "text": [
      "\n",
      "Epoch 00004: val_loss reached 0.07760 (best 0.07645), saving model to ../checkpoints/fold0_08051442/CNN/epoch=4.ckpt as top 4\n"
     ]
    },
    {
     "data": {
      "application/vnd.jupyter.widget-view+json": {
       "model_id": "",
       "version_major": 2,
       "version_minor": 0
      },
      "text/plain": [
       "HBox(children=(FloatProgress(value=1.0, bar_style='info', description='Validating', layout=Layout(flex='2'), m…"
      ]
     },
     "metadata": {},
     "output_type": "display_data"
    },
    {
     "name": "stderr",
     "output_type": "stream",
     "text": [
      "\n",
      "Epoch 00005: val_loss reached 0.07753 (best 0.07645), saving model to ../checkpoints/fold0_08051442/CNN/epoch=5.ckpt as top 4\n"
     ]
    },
    {
     "data": {
      "application/vnd.jupyter.widget-view+json": {
       "model_id": "",
       "version_major": 2,
       "version_minor": 0
      },
      "text/plain": [
       "HBox(children=(FloatProgress(value=1.0, bar_style='info', description='Validating', layout=Layout(flex='2'), m…"
      ]
     },
     "metadata": {},
     "output_type": "display_data"
    },
    {
     "name": "stderr",
     "output_type": "stream",
     "text": [
      "\n",
      "Epoch 00006: val_loss reached 0.07657 (best 0.07645), saving model to ../checkpoints/fold0_08051442/CNN/epoch=6.ckpt as top 4\n"
     ]
    },
    {
     "data": {
      "application/vnd.jupyter.widget-view+json": {
       "model_id": "",
       "version_major": 2,
       "version_minor": 0
      },
      "text/plain": [
       "HBox(children=(FloatProgress(value=1.0, bar_style='info', description='Validating', layout=Layout(flex='2'), m…"
      ]
     },
     "metadata": {},
     "output_type": "display_data"
    },
    {
     "name": "stderr",
     "output_type": "stream",
     "text": [
      "\n",
      "Epoch 00007: val_loss  was not in top 4\n"
     ]
    },
    {
     "data": {
      "application/vnd.jupyter.widget-view+json": {
       "model_id": "",
       "version_major": 2,
       "version_minor": 0
      },
      "text/plain": [
       "HBox(children=(FloatProgress(value=1.0, bar_style='info', description='Validating', layout=Layout(flex='2'), m…"
      ]
     },
     "metadata": {},
     "output_type": "display_data"
    },
    {
     "name": "stderr",
     "output_type": "stream",
     "text": [
      "\n",
      "Epoch 00008: val_loss reached 0.07339 (best 0.07339), saving model to ../checkpoints/fold0_08051442/CNN/epoch=8.ckpt as top 4\n"
     ]
    },
    {
     "data": {
      "application/vnd.jupyter.widget-view+json": {
       "model_id": "",
       "version_major": 2,
       "version_minor": 0
      },
      "text/plain": [
       "HBox(children=(FloatProgress(value=1.0, bar_style='info', description='Validating', layout=Layout(flex='2'), m…"
      ]
     },
     "metadata": {},
     "output_type": "display_data"
    },
    {
     "name": "stderr",
     "output_type": "stream",
     "text": [
      "\n",
      "Epoch 00009: val_loss reached 0.07506 (best 0.07339), saving model to ../checkpoints/fold0_08051442/CNN/epoch=9.ckpt as top 4\n"
     ]
    },
    {
     "data": {
      "application/vnd.jupyter.widget-view+json": {
       "model_id": "",
       "version_major": 2,
       "version_minor": 0
      },
      "text/plain": [
       "HBox(children=(FloatProgress(value=1.0, bar_style='info', description='Validating', layout=Layout(flex='2'), m…"
      ]
     },
     "metadata": {},
     "output_type": "display_data"
    },
    {
     "name": "stderr",
     "output_type": "stream",
     "text": [
      "\n",
      "Epoch 00010: val_loss reached 0.07281 (best 0.07281), saving model to ../checkpoints/fold0_08051442/CNN/epoch=10.ckpt as top 4\n"
     ]
    },
    {
     "data": {
      "application/vnd.jupyter.widget-view+json": {
       "model_id": "",
       "version_major": 2,
       "version_minor": 0
      },
      "text/plain": [
       "HBox(children=(FloatProgress(value=1.0, bar_style='info', description='Validating', layout=Layout(flex='2'), m…"
      ]
     },
     "metadata": {},
     "output_type": "display_data"
    },
    {
     "name": "stderr",
     "output_type": "stream",
     "text": [
      "\n",
      "Epoch 00011: val_loss reached 0.07080 (best 0.07080), saving model to ../checkpoints/fold0_08051442/CNN/epoch=11.ckpt as top 4\n"
     ]
    },
    {
     "data": {
      "application/vnd.jupyter.widget-view+json": {
       "model_id": "",
       "version_major": 2,
       "version_minor": 0
      },
      "text/plain": [
       "HBox(children=(FloatProgress(value=1.0, bar_style='info', description='Validating', layout=Layout(flex='2'), m…"
      ]
     },
     "metadata": {},
     "output_type": "display_data"
    },
    {
     "name": "stderr",
     "output_type": "stream",
     "text": [
      "\n",
      "Epoch 00012: val_loss reached 0.07101 (best 0.07080), saving model to ../checkpoints/fold0_08051442/CNN/epoch=12.ckpt as top 4\n"
     ]
    },
    {
     "data": {
      "application/vnd.jupyter.widget-view+json": {
       "model_id": "",
       "version_major": 2,
       "version_minor": 0
      },
      "text/plain": [
       "HBox(children=(FloatProgress(value=1.0, bar_style='info', description='Validating', layout=Layout(flex='2'), m…"
      ]
     },
     "metadata": {},
     "output_type": "display_data"
    },
    {
     "name": "stderr",
     "output_type": "stream",
     "text": [
      "\n",
      "Epoch 00013: val_loss reached 0.06850 (best 0.06850), saving model to ../checkpoints/fold0_08051442/CNN/epoch=13.ckpt as top 4\n"
     ]
    },
    {
     "data": {
      "application/vnd.jupyter.widget-view+json": {
       "model_id": "",
       "version_major": 2,
       "version_minor": 0
      },
      "text/plain": [
       "HBox(children=(FloatProgress(value=1.0, bar_style='info', description='Validating', layout=Layout(flex='2'), m…"
      ]
     },
     "metadata": {},
     "output_type": "display_data"
    },
    {
     "name": "stderr",
     "output_type": "stream",
     "text": [
      "\n",
      "Epoch 00014: val_loss reached 0.07129 (best 0.06850), saving model to ../checkpoints/fold0_08051442/CNN/epoch=14.ckpt as top 4\n"
     ]
    },
    {
     "data": {
      "application/vnd.jupyter.widget-view+json": {
       "model_id": "",
       "version_major": 2,
       "version_minor": 0
      },
      "text/plain": [
       "HBox(children=(FloatProgress(value=1.0, bar_style='info', description='Validating', layout=Layout(flex='2'), m…"
      ]
     },
     "metadata": {},
     "output_type": "display_data"
    },
    {
     "name": "stderr",
     "output_type": "stream",
     "text": [
      "\n",
      "Epoch 00015: val_loss reached 0.07053 (best 0.06850), saving model to ../checkpoints/fold0_08051442/CNN/epoch=15.ckpt as top 4\n"
     ]
    }
   ],
   "source": [
    "ckpt_path1 = f\"{CKPT_PATH}/CNN\"\n",
    "log_path1 = f\"{LOG_PATH}/CNN\"\n",
    "os.makedirs(log_path1, exist_ok=True)\n",
    "os.makedirs(ckpt_path1, exist_ok=True)\n",
    "\n",
    "tb_log = TensorBoardLogger(save_dir = f\"{LOG_PATH}/CNN\")\n",
    "\n",
    "checkpoint_callback = ModelCheckpoint(\n",
    "    filepath=ckpt_path1,\n",
    "    save_top_k=4,\n",
    "    verbose=True,\n",
    "    monitor='val_loss',\n",
    "    mode='min',\n",
    ")\n",
    "\n",
    "early_stop_callback = EarlyStopping(\n",
    "   monitor='val_loss',\n",
    "   min_delta=0.00,\n",
    "   patience=10,\n",
    "   verbose=True,\n",
    "   mode='min'\n",
    ")\n",
    "\n",
    "\n",
    "# train\n",
    "model = MelanomaModel(ds_train, ds_val, ds_test) \n",
    "\n",
    "trainer = pl.Trainer(max_epochs=10000, logger=tb_log, checkpoint_callback=checkpoint_callback,\n",
    "                     early_stop_callback=early_stop_callback, gpus=gpus, distributed_backend='dp', num_sanity_val_steps=0)\n",
    "\n",
    "trainer.fit(model)\n"
   ]
  },
  {
   "cell_type": "code",
   "execution_count": null,
   "metadata": {
    "ExecuteTime": {
     "start_time": "2020-08-05T05:42:55.920Z"
    }
   },
   "outputs": [],
   "source": [
    "ckpt_path2 = f\"{CKPT_PATH}/MLP\"\n",
    "log_path2 = f\"{LOG_PATH}/MLP\"\n",
    "os.makedirs(log_path2, exist_ok=True)\n",
    "os.makedirs(ckpt_path2, exist_ok=True)\n",
    "\n",
    "tb_log2 = TensorBoardLogger(save_dir = f\"{LOG_PATH}/MLP\")\n",
    "\n",
    "checkpoint_callback2 = ModelCheckpoint(\n",
    "    filepath=ckpt_path2,\n",
    "    save_top_k=4,\n",
    "    verbose=True,\n",
    "    monitor='val_loss',\n",
    "    mode='min',\n",
    ")\n",
    "\n",
    "early_stop_callback2 = EarlyStopping(\n",
    "   monitor='val_loss',\n",
    "   min_delta=0.00,\n",
    "   patience=10,\n",
    "   verbose=True,\n",
    "   mode='min'\n",
    ")\n",
    "\n",
    "\n",
    "concat_model = ConcatModel(model, ds_train2, ds_val2, ds_test2)\n",
    "trainer2 = pl.Trainer(max_epochs=10000, logger=tb_log2, checkpoint_callback=checkpoint_callback2,\n",
    "                     early_stop_callback=early_stop_callback2, gpus=gpus, distributed_backend='dp', num_sanity_val_steps=0)\n",
    "\n",
    "\n",
    "trainer2.fit(concat_model)"
   ]
  },
  {
   "cell_type": "markdown",
   "metadata": {},
   "source": [
    "#### inference"
   ]
  },
  {
   "cell_type": "code",
   "execution_count": null,
   "metadata": {
    "ExecuteTime": {
     "start_time": "2020-08-05T05:42:55.956Z"
    }
   },
   "outputs": [],
   "source": [
    "trainer2.test(concat_model)"
   ]
  },
  {
   "cell_type": "code",
   "execution_count": null,
   "metadata": {
    "ExecuteTime": {
     "start_time": "2020-08-05T05:42:55.984Z"
    }
   },
   "outputs": [],
   "source": [
    "### TTA\n",
    "# preds_list = list()\n",
    "\n",
    "# for i in range(10):\n",
    "#     trainer2.test(concat_model)\n",
    "#     preds_list.append(concat_model.test_predicts)\n",
    "\n",
    "# preds_arr = np.array(preds_list).squeeze()\n",
    "# new_preds = preds_arr.mean(axis=0)"
   ]
  },
  {
   "cell_type": "code",
   "execution_count": null,
   "metadata": {
    "ExecuteTime": {
     "start_time": "2020-08-05T05:42:57.763Z"
    }
   },
   "outputs": [],
   "source": [
    "submission = pd.read_csv(f\"{DATA_PATH}/sample_submission.csv\")\n",
    "submission[\"target\"] = concat_model.test_predicts.squeeze()"
   ]
  },
  {
   "cell_type": "markdown",
   "metadata": {},
   "source": [
    "#### save"
   ]
  },
  {
   "cell_type": "code",
   "execution_count": null,
   "metadata": {
    "ExecuteTime": {
     "start_time": "2020-08-05T05:42:58.446Z"
    }
   },
   "outputs": [],
   "source": [
    "submission.to_csv(f\"{ROOT_PATH}/output/submission.csv\", index=False)"
   ]
  },
  {
   "cell_type": "code",
   "execution_count": null,
   "metadata": {
    "ExecuteTime": {
     "start_time": "2020-08-05T05:42:58.595Z"
    }
   },
   "outputs": [],
   "source": [
    "concat_model.val_auc"
   ]
  },
  {
   "cell_type": "code",
   "execution_count": null,
   "metadata": {},
   "outputs": [],
   "source": []
  },
  {
   "cell_type": "code",
   "execution_count": null,
   "metadata": {},
   "outputs": [],
   "source": []
  },
  {
   "cell_type": "code",
   "execution_count": null,
   "metadata": {},
   "outputs": [],
   "source": []
  },
  {
   "cell_type": "code",
   "execution_count": null,
   "metadata": {},
   "outputs": [],
   "source": []
  },
  {
   "cell_type": "code",
   "execution_count": null,
   "metadata": {},
   "outputs": [],
   "source": []
  },
  {
   "cell_type": "code",
   "execution_count": null,
   "metadata": {},
   "outputs": [],
   "source": []
  },
  {
   "cell_type": "code",
   "execution_count": null,
   "metadata": {},
   "outputs": [],
   "source": []
  },
  {
   "cell_type": "code",
   "execution_count": null,
   "metadata": {},
   "outputs": [],
   "source": []
  }
 ],
 "metadata": {
  "file_extension": ".py",
  "kernelspec": {
   "display_name": "Python 3",
   "language": "python",
   "name": "python3"
  },
  "language_info": {
   "codemirror_mode": {
    "name": "ipython",
    "version": 3
   },
   "file_extension": ".py",
   "mimetype": "text/x-python",
   "name": "python",
   "nbconvert_exporter": "python",
   "pygments_lexer": "ipython3",
   "version": "3.6.8"
  },
  "mimetype": "text/x-python",
  "name": "python",
  "npconvert_exporter": "python",
  "pygments_lexer": "ipython3",
  "toc": {
   "base_numbering": 1,
   "nav_menu": {},
   "number_sections": true,
   "sideBar": true,
   "skip_h1_title": false,
   "title_cell": "Table of Contents",
   "title_sidebar": "Contents",
   "toc_cell": false,
   "toc_position": {
    "height": "calc(100% - 180px)",
    "left": "10px",
    "top": "150px",
    "width": "165px"
   },
   "toc_section_display": true,
   "toc_window_display": true
  },
  "version": 3
 },
 "nbformat": 4,
 "nbformat_minor": 2
}

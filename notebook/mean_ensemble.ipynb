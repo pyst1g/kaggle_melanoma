{
 "cells": [
  {
   "cell_type": "code",
   "execution_count": 1,
   "metadata": {
    "ExecuteTime": {
     "end_time": "2020-08-11T13:11:23.595503Z",
     "start_time": "2020-08-11T13:11:23.590671Z"
    }
   },
   "outputs": [],
   "source": [
    "from datetime import datetime\n"
   ]
  },
  {
   "cell_type": "code",
   "execution_count": 2,
   "metadata": {
    "ExecuteTime": {
     "end_time": "2020-08-11T13:11:23.980517Z",
     "start_time": "2020-08-11T13:11:23.596604Z"
    }
   },
   "outputs": [],
   "source": [
    "import pandas as pd\n",
    "import numpy as np"
   ]
  },
  {
   "cell_type": "code",
   "execution_count": 3,
   "metadata": {
    "ExecuteTime": {
     "end_time": "2020-08-11T13:11:24.018273Z",
     "start_time": "2020-08-11T13:11:23.985451Z"
    }
   },
   "outputs": [],
   "source": [
    "f0 = pd.read_csv(\"../checkpoints/fold0_512x512/0809/1638/MLP/submission.csv\") \n",
    "f1 = pd.read_csv(\"../checkpoints/fold1_512x512/0809/1638/MLP/submission.csv\")\n",
    "f2 = pd.read_csv(\"../checkpoints/fold2_512x512/0809/1638/MLP/submission.csv\")\n",
    "\n",
    "new_preds = f0.copy()"
   ]
  },
  {
   "cell_type": "code",
   "execution_count": 4,
   "metadata": {
    "ExecuteTime": {
     "end_time": "2020-08-11T13:11:24.148457Z",
     "start_time": "2020-08-11T13:11:24.022325Z"
    }
   },
   "outputs": [],
   "source": [
    "f0_ = pd.read_csv(\"../checkpoints/fold0_512x512/0809/1638/CNN/submission.csv\") \n",
    "f1_ = pd.read_csv(\"../checkpoints/fold1_512x512/0809/1638/CNN/submission.csv\")\n",
    "f2_ = pd.read_csv(\"../checkpoints/fold2_512x512/0809/1638/CNN/submission.csv\")\n"
   ]
  },
  {
   "cell_type": "code",
   "execution_count": 5,
   "metadata": {
    "ExecuteTime": {
     "end_time": "2020-08-11T13:11:24.192849Z",
     "start_time": "2020-08-11T13:11:24.154892Z"
    }
   },
   "outputs": [],
   "source": [
    "f0[\"target\"] = (f0[\"target\"] + f0_[\"target\"] ) /2\n",
    "\n",
    "\n",
    "f1[\"target\"] = (f1[\"target\"] + f1_[\"target\"] ) /2\n",
    "\n",
    "\n",
    "f2[\"target\"] = (f2[\"target\"] + f2_[\"target\"] ) /2\n"
   ]
  },
  {
   "cell_type": "code",
   "execution_count": 6,
   "metadata": {
    "ExecuteTime": {
     "end_time": "2020-08-11T13:11:24.261409Z",
     "start_time": "2020-08-11T13:11:24.204825Z"
    }
   },
   "outputs": [],
   "source": [
    "def sigmoid(x):\n",
    "    s = 1 / (1 + np.exp(1)**-x)\n",
    "    return s\n",
    "\n",
    "def sigmoid_inv(x):\n",
    "    s = np.log(x / (1-x))\n",
    "    return s\n"
   ]
  },
  {
   "cell_type": "code",
   "execution_count": 7,
   "metadata": {
    "ExecuteTime": {
     "end_time": "2020-08-11T13:11:24.358074Z",
     "start_time": "2020-08-11T13:11:24.353502Z"
    }
   },
   "outputs": [],
   "source": [
    "\n",
    "## probs mean\n",
    "new_preds[\"target\"] = (f0[\"target\"] + f1[\"target\"] + f2[\"target\"]) / 3.0\n",
    "\n",
    "# logit mean\n",
    "# new_preds[\"target\"] = sigmoid((sigmoid_inv(f0[\"target\"]) + sigmoid_inv(f1[\"target\"]) + sigmoid_inv(f2[\"target\"])) / 3.0 )"
   ]
  },
  {
   "cell_type": "code",
   "execution_count": 8,
   "metadata": {
    "ExecuteTime": {
     "end_time": "2020-08-11T13:11:25.033963Z",
     "start_time": "2020-08-11T13:11:24.909685Z"
    }
   },
   "outputs": [],
   "source": [
    "new_preds.to_csv(\"../output/submission.csv\", index=False)"
   ]
  },
  {
   "cell_type": "code",
   "execution_count": null,
   "metadata": {},
   "outputs": [],
   "source": []
  }
 ],
 "metadata": {
  "kernelspec": {
   "display_name": "Python 3",
   "language": "python",
   "name": "python3"
  },
  "language_info": {
   "codemirror_mode": {
    "name": "ipython",
    "version": 3
   },
   "file_extension": ".py",
   "mimetype": "text/x-python",
   "name": "python",
   "nbconvert_exporter": "python",
   "pygments_lexer": "ipython3",
   "version": "3.6.8"
  }
 },
 "nbformat": 4,
 "nbformat_minor": 4
}

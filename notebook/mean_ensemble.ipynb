{
 "cells": [
  {
   "cell_type": "code",
   "execution_count": 1,
   "metadata": {
    "ExecuteTime": {
     "end_time": "2020-08-05T07:35:39.084385Z",
     "start_time": "2020-08-05T07:35:39.079596Z"
    }
   },
   "outputs": [],
   "source": [
    "from datetime import datetime\n"
   ]
  },
  {
   "cell_type": "code",
   "execution_count": 1,
   "metadata": {
    "ExecuteTime": {
     "end_time": "2020-08-01T13:23:23.798501Z",
     "start_time": "2020-08-01T13:23:23.487401Z"
    }
   },
   "outputs": [],
   "source": [
    "import pandas as pd\n",
    "import numpy as np"
   ]
  },
  {
   "cell_type": "code",
   "execution_count": 2,
   "metadata": {
    "ExecuteTime": {
     "end_time": "2020-08-01T13:23:23.829806Z",
     "start_time": "2020-08-01T13:23:23.800188Z"
    }
   },
   "outputs": [],
   "source": [
    "f0 = pd.read_csv(\"../output/submission_f0.csv\")\n",
    "f1 = pd.read_csv(\"../output/submission_f1.csv\")\n",
    "f2 = pd.read_csv(\"../output/submission_f2.csv\")\n",
    "\n",
    "new_preds = f0.copy()"
   ]
  },
  {
   "cell_type": "code",
   "execution_count": 3,
   "metadata": {
    "ExecuteTime": {
     "end_time": "2020-08-01T13:23:23.888680Z",
     "start_time": "2020-08-01T13:23:23.831043Z"
    }
   },
   "outputs": [],
   "source": [
    "def sigmoid(x):\n",
    "    s = 1 / (1 + np.exp(1)**-x)\n",
    "    return s\n",
    "\n",
    "def sigmoid_inv(x):\n",
    "    s = np.log(x / (1-x))\n",
    "    return s\n"
   ]
  },
  {
   "cell_type": "code",
   "execution_count": 4,
   "metadata": {
    "ExecuteTime": {
     "end_time": "2020-08-01T13:23:23.969518Z",
     "start_time": "2020-08-01T13:23:23.890813Z"
    }
   },
   "outputs": [],
   "source": [
    "\n",
    "## probs mean\n",
    "# new_preds[\"target\"] = (f0[\"target\"] + f1[\"target\"] + f2[\"target\"]) / 3.0\n",
    "\n",
    "# logit mean\n",
    "new_preds[\"target\"] = sigmoid((sigmoid_inv(f0[\"target\"]) + sigmoid_inv(f1[\"target\"]) + sigmoid_inv(f2[\"target\"])) / 3.0 )"
   ]
  },
  {
   "cell_type": "code",
   "execution_count": 5,
   "metadata": {
    "ExecuteTime": {
     "end_time": "2020-08-01T13:23:24.110455Z",
     "start_time": "2020-08-01T13:23:24.000709Z"
    }
   },
   "outputs": [],
   "source": [
    "new_preds.to_csv(\"../output/submission.csv\", index=False)"
   ]
  },
  {
   "cell_type": "code",
   "execution_count": null,
   "metadata": {},
   "outputs": [],
   "source": []
  }
 ],
 "metadata": {
  "kernelspec": {
   "display_name": "Python 3",
   "language": "python",
   "name": "python3"
  },
  "language_info": {
   "codemirror_mode": {
    "name": "ipython",
    "version": 3
   },
   "file_extension": ".py",
   "mimetype": "text/x-python",
   "name": "python",
   "nbconvert_exporter": "python",
   "pygments_lexer": "ipython3",
   "version": "3.6.8"
  }
 },
 "nbformat": 4,
 "nbformat_minor": 4
}

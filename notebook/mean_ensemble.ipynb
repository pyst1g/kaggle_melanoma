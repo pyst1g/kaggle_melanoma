{
 "cells": [
  {
   "cell_type": "code",
   "execution_count": 1,
   "metadata": {
    "ExecuteTime": {
     "end_time": "2020-08-17T01:20:17.842158Z",
     "start_time": "2020-08-17T01:20:17.341771Z"
    }
   },
   "outputs": [],
   "source": [
    "from copy import deepcopy\n",
    "import pandas as pd\n",
    "import numpy as np\n",
    "from sklearn.metrics import log_loss, roc_auc_score\n",
    "np.random.seed(0)"
   ]
  },
  {
   "cell_type": "code",
   "execution_count": 2,
   "metadata": {
    "ExecuteTime": {
     "end_time": "2020-08-17T01:20:17.852001Z",
     "start_time": "2020-08-17T01:20:17.845796Z"
    }
   },
   "outputs": [],
   "source": [
    "def sigmoid(x):\n",
    "    s = 1 / (1 + np.exp(1)**-x)\n",
    "    return s\n",
    "\n",
    "def sigmoid_inv(x):\n",
    "    s = np.log(x / (1-x))\n",
    "    return s\n"
   ]
  },
  {
   "cell_type": "code",
   "execution_count": 3,
   "metadata": {
    "ExecuteTime": {
     "end_time": "2020-08-17T01:20:18.924053Z",
     "start_time": "2020-08-17T01:20:18.831638Z"
    }
   },
   "outputs": [],
   "source": [
    "fold_number = 2\n",
    "\n",
    "df_val= pd.read_csv('../input/jpeg-melanoma-512x512/train.csv', index_col=\"image_name\")\n",
    "df_val = df_val.query(f\"tfrecord % 3 == {fold_number}\")[\"target\"]"
   ]
  },
  {
   "cell_type": "code",
   "execution_count": null,
   "metadata": {},
   "outputs": [],
   "source": []
  },
  {
   "cell_type": "code",
   "execution_count": 4,
   "metadata": {
    "ExecuteTime": {
     "end_time": "2020-08-17T01:20:19.274111Z",
     "start_time": "2020-08-17T01:20:19.083216Z"
    }
   },
   "outputs": [
    {
     "name": "stdout",
     "output_type": "stream",
     "text": [
      "現在のスコア\n",
      "b6_512m   , 0.9304\n",
      "b8_512m   , 0.9378\n",
      "b8_192m   , 0.8964\n",
      "b0_768m   , 0.9302\n",
      "b3_768m   , 0.9373\n",
      "b0_1024m  , 0.9287\n"
     ]
    }
   ],
   "source": [
    "b6_512c = pd.read_csv(f\"../checkpoints/fold{fold_number}_512x512/0809/1638/CNN/oof_preds.csv\", index_col=\"image_name\")[\"target\"]\n",
    "b6_512m = pd.read_csv(f\"../checkpoints/fold{fold_number}_512x512/0809/1638/MLP/oof_preds.csv\", index_col=\"image_name\")[\"target\"]\n",
    "b8_512c = pd.read_csv(f\"../checkpoints/fold{fold_number}_512x512/0813/1700/CNN/oof_preds.csv\", index_col=\"image_name\")[\"target\"]\n",
    "b8_512m = pd.read_csv(f\"../checkpoints/fold{fold_number}_512x512/0813/1700/MLP/oof_preds.csv\", index_col=\"image_name\")[\"target\"]\n",
    "b8_192c = pd.read_csv(f\"../checkpoints/fold{fold_number}_192x192/0811/0812/CNN/oof_preds.csv\", index_col=\"image_name\")[\"target\"]\n",
    "b8_192m = pd.read_csv(f\"../checkpoints/fold{fold_number}_192x192/0811/0812/MLP/oof_preds.csv\", index_col=\"image_name\")[\"target\"]\n",
    "b0_768c = pd.read_csv(f\"../checkpoints/fold{fold_number}_768x768/0811/2224/CNN/oof_preds.csv\", index_col=\"image_name\")[\"target\"]\n",
    "b0_768m = pd.read_csv(f\"../checkpoints/fold{fold_number}_768x768/0811/2224/MLP/oof_preds.csv\", index_col=\"image_name\")[\"target\"]\n",
    "b3_768c = pd.read_csv(f\"../checkpoints/fold{fold_number}_768x768/0813/0918/CNN/oof_preds.csv\", index_col=\"image_name\")[\"target\"]\n",
    "b3_768m = pd.read_csv(f\"../checkpoints/fold{fold_number}_768x768/0813/0918/MLP/oof_preds.csv\", index_col=\"image_name\")[\"target\"]\n",
    "b0_1024c = pd.read_csv(f\"../checkpoints/fold{fold_number}_1024x1024/0812/2107/CNN/oof_preds.csv\", index_col=\"image_name\")[\"target\"]\n",
    "b0_1024m = pd.read_csv(f\"../checkpoints/fold{fold_number}_1024x1024/0812/2107/MLP/oof_preds.csv\", index_col=\"image_name\")[\"target\"]\n",
    "\n",
    "\n",
    "\n",
    "\n",
    "\n",
    "b6_512c_l = sigmoid_inv(b6_512c)\n",
    "b6_512m_l = sigmoid_inv(b6_512m)\n",
    "b8_512c_l = sigmoid_inv(b8_512c)\n",
    "b8_512m_l = sigmoid_inv(b8_512m)\n",
    "b8_192c_l = sigmoid_inv(b8_192c)\n",
    "b8_192m_l = sigmoid_inv(b8_192m)\n",
    "b0_768c_l = sigmoid_inv(b0_768c)\n",
    "b0_768m_l = sigmoid_inv(b0_768m)\n",
    "b3_768c_l = sigmoid_inv(b3_768c)\n",
    "b3_768m_l = sigmoid_inv(b3_768m)\n",
    "b0_1024c_l = sigmoid_inv(b0_1024c)\n",
    "b0_1024m_l = sigmoid_inv(b0_1024m)\n",
    "\n",
    "\n",
    "preds = {\n",
    "#     \"b6_512c\": b6_512c, \n",
    "    \"b6_512m\": b6_512m,\n",
    "#     \"b8_512c\": b8_512c, \n",
    "    \"b8_512m\": b8_512m,\n",
    "#     \"b8_192c\":b8_192c,\n",
    "    \"b8_192m\":b8_192m,  \n",
    "#     \"b0_768c\":b0_768c,\n",
    "    \"b0_768m\":b0_768m,\n",
    "#      \"b3_768c\":b3_768c,\n",
    "    \"b3_768m\":b3_768m,   \n",
    "#     \"b0_1024c\":b0_1024c,\n",
    "    \"b0_1024m\":b0_1024m,\n",
    "#     \"b6_512c_l\": b6_512c_l, \n",
    "#     \"b6_512m_l\": b6_512m_l,\n",
    "#     \"b8_512c_l\": b8_512c_l, \n",
    "#     \"b8_512m_l\": b8_512m_l,\n",
    "#     \"b8_192c_l\":b8_192c_l,\n",
    "#     \"b8_192m_l\":b8_192m_l,  \n",
    "#     \"b0_768c_l\":b0_768c_l,\n",
    "#     \"b0_768m_l\":b0_768m_l,\n",
    "#     \"b3_768c_l\":b3_768c_l,\n",
    "#     \"b3_768m_l\":b3_768m_l,\n",
    "#     \"b0_1024c_l\":b0_1024c_l,\n",
    "#     \"b0_1024m_l\":b0_1024m_l,\n",
    "}\n",
    "\n",
    "print(\"現在のスコア\")\n",
    "for name, pred in preds.items():\n",
    "    score = roc_auc_score(df_val, pred)\n",
    "    print(f\"{name:10}, {score:.4}\")"
   ]
  },
  {
   "cell_type": "code",
   "execution_count": 5,
   "metadata": {
    "ExecuteTime": {
     "end_time": "2020-08-17T01:20:30.130640Z",
     "start_time": "2020-08-17T01:20:19.276553Z"
    }
   },
   "outputs": [
    {
     "name": "stdout",
     "output_type": "stream",
     "text": [
      "0.9504948417491708\n",
      "0.9504948417491708\n"
     ]
    }
   ],
   "source": [
    "delta = 10\n",
    "\n",
    "best_weights = dict()\n",
    "for name in preds.keys():\n",
    "    best_weights[name] = 1\n",
    "\n",
    "best_pred = pd.Series(0,index=df_val.index)\n",
    "for name, pred in preds.items():\n",
    "    best_pred += pred * best_weights[name]\n",
    "\n",
    "wait_count = 0\n",
    "roc_best = 0\n",
    "while wait_count < 1000:\n",
    "    for focus_name in preds.keys():\n",
    "        tmp_pred = best_pred + preds[focus_name] * (delta / (wait_count + 1))\n",
    "        tmp_score = roc_auc_score(df_val, tmp_pred)\n",
    "        if roc_best <= tmp_score:\n",
    "            best_weights[focus_name] += (delta / (wait_count + 1))\n",
    "            roc_best = tmp_score\n",
    "            best_pred = tmp_pred\n",
    "            wait_count = 0\n",
    "        else:\n",
    "            wait_count +=1    \n",
    "        \n",
    "weights_sum = sum(best_weights.values())\n",
    "for name in best_weights:\n",
    "    best_weights[name] /= weights_sum\n",
    "        \n",
    "confirm_pred = pd.Series(0,index=df_val.index)\n",
    "for name, pred in preds.items():\n",
    "    confirm_pred += pred * best_weights[name]\n",
    "\n",
    "print(roc_auc_score(df_val, confirm_pred))\n",
    "print(roc_best)"
   ]
  },
  {
   "cell_type": "code",
   "execution_count": 6,
   "metadata": {
    "ExecuteTime": {
     "end_time": "2020-08-17T01:20:30.148141Z",
     "start_time": "2020-08-17T01:20:30.132879Z"
    }
   },
   "outputs": [
    {
     "data": {
      "text/plain": [
       "{'b6_512m': 0.13184862617152374,\n",
       " 'b8_512m': 0.5787271201959864,\n",
       " 'b8_192m': 0.011340716423591928,\n",
       " 'b0_768m': 0.024616657863746786,\n",
       " 'b3_768m': 0.16205661033410815,\n",
       " 'b0_1024m': 0.09141026901104322}"
      ]
     },
     "execution_count": 6,
     "metadata": {},
     "output_type": "execute_result"
    }
   ],
   "source": [
    "best_weights"
   ]
  },
  {
   "cell_type": "code",
   "execution_count": 7,
   "metadata": {
    "ExecuteTime": {
     "end_time": "2020-08-17T01:20:30.400460Z",
     "start_time": "2020-08-17T01:20:30.151455Z"
    }
   },
   "outputs": [],
   "source": [
    "b6_512c_sub =  pd.read_csv(f\"../checkpoints/fold{fold_number}_512x512/0809/1638/CNN/submission.csv\", index_col=\"image_name\")[\"target\"]\n",
    "b6_512m_sub =  pd.read_csv(f\"../checkpoints/fold{fold_number}_512x512/0809/1638/MLP/submission.csv\", index_col=\"image_name\")[\"target\"]\n",
    "b8_512c_sub =  pd.read_csv(f\"../checkpoints/fold{fold_number}_512x512/0813/1700/CNN/submission.csv\", index_col=\"image_name\")[\"target\"]\n",
    "b8_512m_sub =  pd.read_csv(f\"../checkpoints/fold{fold_number}_512x512/0813/1700/MLP/submission.csv\", index_col=\"image_name\")[\"target\"]\n",
    "b8_192c_sub =  pd.read_csv(f\"../checkpoints/fold{fold_number}_192x192/0811/0812/CNN/submission.csv\", index_col=\"image_name\")[\"target\"]\n",
    "b8_192m_sub =  pd.read_csv(f\"../checkpoints/fold{fold_number}_192x192/0811/0812/MLP/submission.csv\", index_col=\"image_name\")[\"target\"]\n",
    "b0_768c_sub =  pd.read_csv(f\"../checkpoints/fold{fold_number}_768x768/0811/2224/CNN/submission.csv\", index_col=\"image_name\")[\"target\"]\n",
    "b0_768m_sub =  pd.read_csv(f\"../checkpoints/fold{fold_number}_768x768/0811/2224/MLP/submission.csv\", index_col=\"image_name\")[\"target\"]\n",
    "b3_768c_sub = pd.read_csv(f\"../checkpoints/fold{fold_number}_768x768/0813/0918/CNN/submission.csv\", index_col=\"image_name\")[\"target\"]\n",
    "b3_768m_sub = pd.read_csv(f\"../checkpoints/fold{fold_number}_768x768/0813/0918/MLP/submission.csv\", index_col=\"image_name\")[\"target\"]\n",
    "b0_1024c_sub = pd.read_csv(f\"../checkpoints/fold{fold_number}_1024x1024/0812/2107/CNN/submission.csv\", index_col=\"image_name\")[\"target\"]\n",
    "b0_1024m_sub = pd.read_csv(f\"../checkpoints/fold{fold_number}_1024x1024/0812/2107/MLP/submission.csv\", index_col=\"image_name\")[\"target\"]\n",
    "\n",
    "\n",
    "\n",
    "\n",
    "b6_512c_l_sub =  sigmoid_inv(b6_512c_sub)\n",
    "b6_512m_l_sub =  sigmoid_inv(b6_512m_sub)\n",
    "b8_512c_l_sub =  sigmoid_inv(b8_512c_sub)\n",
    "b8_512m_l_sub =  sigmoid_inv(b8_512m_sub)\n",
    "b8_192c_l_sub =  sigmoid_inv(b8_192c_sub)\n",
    "b8_192m_l_sub =  sigmoid_inv(b8_192m_sub)\n",
    "b0_768c_l_sub =  sigmoid_inv(b0_768c_sub)\n",
    "b0_768m_l_sub =  sigmoid_inv(b0_768m_sub)\n",
    "b3_768c_l_sub =  sigmoid_inv(b3_768c_sub)\n",
    "b3_768m_l_sub =  sigmoid_inv(b3_768m_sub)\n",
    "b0_1024c_l_sub =  sigmoid_inv(b0_1024c_sub)\n",
    "b0_1024m_l_sub =  sigmoid_inv(b0_1024m_sub)\n",
    "\n",
    "subs = {\n",
    "#     \"b6_512c_sub\": b6_512c_sub, \n",
    "    \"b6_512m_sub\": b6_512m_sub,\n",
    "#     \"b8_512c_sub\": b8_512c_sub, \n",
    "    \"b8_512m_sub\": b8_512m_sub,\n",
    "#     \"b8_192c_sub\":b8_192c_sub,\n",
    "    \"b8_192m_sub\":b8_192m_sub,  \n",
    "#     \"b0_768c_sub\":b0_768c_sub,\n",
    "    \"b0_768m_sub\":b0_768m_sub,\n",
    "#     \"b3_768c_sub\":b3_768c_sub,\n",
    "    \"b3_768m_sub\":b3_768m_sub,\n",
    "#     \"b0_1024c_sub\":b0_1024c_sub,\n",
    "    \"b0_1024m_sub\":b0_1024m_sub,\n",
    "#     \"b6_512c_l_sub\": b6_512c_l_sub, \n",
    "#     \"b6_512m_l_sub\": b6_512m_l_sub,\n",
    "#     \"b8_512c_l_sub\": b8_512c_l_sub, \n",
    "#     \"b8_512m_l_sub\": b8_512m_l_sub,\n",
    "#     \"b8_192c_l_sub\":b8_192c_l_sub,\n",
    "#     \"b8_192m_l_sub\":b8_192m_l_sub,  \n",
    "#     \"b0_768c_l_sub\":b0_768c_l_sub,\n",
    "#     \"b0_768m_l_sub\":b0_768m_l_sub,\n",
    "#     \"b3_768c_l_sub\":b3_768c_l_sub,\n",
    "#     \"b3_768m_l_sub\":b3_768m_l_sub,\n",
    "#     \"b0_1024c_l_sub\":b0_1024c_l_sub,\n",
    "#     \"b0_1024m_l_sub\":b0_1024m_l_sub,\n",
    "}"
   ]
  },
  {
   "cell_type": "code",
   "execution_count": 8,
   "metadata": {
    "ExecuteTime": {
     "end_time": "2020-08-17T01:20:30.425221Z",
     "start_time": "2020-08-17T01:20:30.402520Z"
    }
   },
   "outputs": [
    {
     "name": "stdout",
     "output_type": "stream",
     "text": [
      "b6_512m_sub\n",
      "b8_512m_sub\n",
      "b8_192m_sub\n",
      "b0_768m_sub\n",
      "b3_768m_sub\n",
      "b0_1024m_sub\n"
     ]
    }
   ],
   "source": [
    "submission = pd.read_csv('../input/siim-isic-melanoma-classification/sample_submission.csv', index_col=\"image_name\")\n",
    "for name, sub in subs.items():\n",
    "    print(name)\n",
    "#     print((submission.index == sub.index).all())\n",
    "    submission[\"target\"] += sub.values * best_weights[name[:-4]]"
   ]
  },
  {
   "cell_type": "code",
   "execution_count": 9,
   "metadata": {
    "ExecuteTime": {
     "end_time": "2020-08-17T01:20:30.555842Z",
     "start_time": "2020-08-17T01:20:30.427114Z"
    }
   },
   "outputs": [],
   "source": [
    "submission.to_csv(f\"../output/submission_fold{fold_number}.csv\")"
   ]
  },
  {
   "cell_type": "code",
   "execution_count": 10,
   "metadata": {
    "ExecuteTime": {
     "end_time": "2020-08-17T01:20:30.601188Z",
     "start_time": "2020-08-17T01:20:30.558004Z"
    }
   },
   "outputs": [
    {
     "data": {
      "text/html": [
       "<div>\n",
       "<style scoped>\n",
       "    .dataframe tbody tr th:only-of-type {\n",
       "        vertical-align: middle;\n",
       "    }\n",
       "\n",
       "    .dataframe tbody tr th {\n",
       "        vertical-align: top;\n",
       "    }\n",
       "\n",
       "    .dataframe thead th {\n",
       "        text-align: right;\n",
       "    }\n",
       "</style>\n",
       "<table border=\"1\" class=\"dataframe\">\n",
       "  <thead>\n",
       "    <tr style=\"text-align: right;\">\n",
       "      <th></th>\n",
       "      <th>target</th>\n",
       "    </tr>\n",
       "    <tr>\n",
       "      <th>image_name</th>\n",
       "      <th></th>\n",
       "    </tr>\n",
       "  </thead>\n",
       "  <tbody>\n",
       "    <tr>\n",
       "      <th>ISIC_0052060</th>\n",
       "      <td>0.000168</td>\n",
       "    </tr>\n",
       "    <tr>\n",
       "      <th>ISIC_0052349</th>\n",
       "      <td>0.000094</td>\n",
       "    </tr>\n",
       "    <tr>\n",
       "      <th>ISIC_0058510</th>\n",
       "      <td>0.000270</td>\n",
       "    </tr>\n",
       "    <tr>\n",
       "      <th>ISIC_0073313</th>\n",
       "      <td>0.000206</td>\n",
       "    </tr>\n",
       "    <tr>\n",
       "      <th>ISIC_0073502</th>\n",
       "      <td>0.000465</td>\n",
       "    </tr>\n",
       "    <tr>\n",
       "      <th>...</th>\n",
       "      <td>...</td>\n",
       "    </tr>\n",
       "    <tr>\n",
       "      <th>ISIC_9992485</th>\n",
       "      <td>0.001183</td>\n",
       "    </tr>\n",
       "    <tr>\n",
       "      <th>ISIC_9996992</th>\n",
       "      <td>0.005855</td>\n",
       "    </tr>\n",
       "    <tr>\n",
       "      <th>ISIC_9997917</th>\n",
       "      <td>0.019149</td>\n",
       "    </tr>\n",
       "    <tr>\n",
       "      <th>ISIC_9998234</th>\n",
       "      <td>0.000783</td>\n",
       "    </tr>\n",
       "    <tr>\n",
       "      <th>ISIC_9999302</th>\n",
       "      <td>0.012972</td>\n",
       "    </tr>\n",
       "  </tbody>\n",
       "</table>\n",
       "<p>10982 rows × 1 columns</p>\n",
       "</div>"
      ],
      "text/plain": [
       "                target\n",
       "image_name            \n",
       "ISIC_0052060  0.000168\n",
       "ISIC_0052349  0.000094\n",
       "ISIC_0058510  0.000270\n",
       "ISIC_0073313  0.000206\n",
       "ISIC_0073502  0.000465\n",
       "...                ...\n",
       "ISIC_9992485  0.001183\n",
       "ISIC_9996992  0.005855\n",
       "ISIC_9997917  0.019149\n",
       "ISIC_9998234  0.000783\n",
       "ISIC_9999302  0.012972\n",
       "\n",
       "[10982 rows x 1 columns]"
      ]
     },
     "execution_count": 10,
     "metadata": {},
     "output_type": "execute_result"
    }
   ],
   "source": [
    "submission"
   ]
  },
  {
   "cell_type": "code",
   "execution_count": null,
   "metadata": {},
   "outputs": [],
   "source": []
  },
  {
   "cell_type": "code",
   "execution_count": null,
   "metadata": {},
   "outputs": [],
   "source": []
  },
  {
   "cell_type": "code",
   "execution_count": null,
   "metadata": {},
   "outputs": [],
   "source": []
  },
  {
   "cell_type": "code",
   "execution_count": null,
   "metadata": {},
   "outputs": [],
   "source": []
  },
  {
   "cell_type": "code",
   "execution_count": null,
   "metadata": {},
   "outputs": [],
   "source": []
  },
  {
   "cell_type": "code",
   "execution_count": null,
   "metadata": {},
   "outputs": [],
   "source": []
  },
  {
   "cell_type": "code",
   "execution_count": null,
   "metadata": {},
   "outputs": [],
   "source": []
  },
  {
   "cell_type": "code",
   "execution_count": null,
   "metadata": {},
   "outputs": [],
   "source": []
  },
  {
   "cell_type": "code",
   "execution_count": null,
   "metadata": {},
   "outputs": [],
   "source": []
  },
  {
   "cell_type": "code",
   "execution_count": 11,
   "metadata": {
    "ExecuteTime": {
     "end_time": "2020-08-17T01:21:15.226401Z",
     "start_time": "2020-08-17T01:21:14.747050Z"
    }
   },
   "outputs": [
    {
     "data": {
      "image/png": "[encoded data removed]",
      "text/plain": [
       "<Figure size 432x288 with 1 Axes>"
      ]
     },
     "metadata": {
      "needs_background": "light"
     },
     "output_type": "display_data"
    }
   ],
   "source": [
    "from scipy.stats import iqr\n",
    "\n",
    "f0 = pd.read_csv(\"../output/submission_fold0.csv\")\n",
    "f1 = pd.read_csv(\"../output/submission_fold1.csv\")\n",
    "f2 = pd.read_csv(\"../output/submission_fold2.csv\")\n",
    "\n",
    "# f0[\"target\"] = (f0[\"target\"] - f0[\"target\"].mean()) / f0[\"target\"].std()\n",
    "# f1[\"target\"] = (f1[\"target\"] - f1[\"target\"].mean()) / f1[\"target\"].std()\n",
    "# f2[\"target\"] = (f2[\"target\"] - f2[\"target\"].mean()) / f2[\"target\"].std()\n",
    "\n",
    "# f0[\"target\"] = (f0[\"target\"] - f0[\"target\"].median()) / iqr(f0[\"target\"])\n",
    "# f1[\"target\"] = (f1[\"target\"] - f1[\"target\"].median()) / iqr(f1[\"target\"])\n",
    "# f2[\"target\"] = (f2[\"target\"] - f2[\"target\"].median()) / iqr(f2[\"target\"])\n",
    "\n",
    "import matplotlib.pyplot as plt\n",
    "\n",
    "plt.plot(f0[\"target\"], alpha=0.3)\n",
    "plt.plot(f1[\"target\"], alpha=0.3)\n",
    "plt.plot(f2[\"target\"], alpha=0.3)\n",
    "\n",
    "new_preds = f0.copy()\n",
    "new_preds[\"target\"] = (f0[\"target\"] + f1[\"target\"] + f2[\"target\"]) / 3\n",
    "\n",
    "new_preds.to_csv(\"../output/submission.csv\", index=None)"
   ]
  },
  {
   "cell_type": "code",
   "execution_count": null,
   "metadata": {},
   "outputs": [],
   "source": []
  },
  {
   "cell_type": "code",
   "execution_count": null,
   "metadata": {},
   "outputs": [],
   "source": []
  },
  {
   "cell_type": "code",
   "execution_count": null,
   "metadata": {},
   "outputs": [],
   "source": []
  },
  {
   "cell_type": "code",
   "execution_count": null,
   "metadata": {},
   "outputs": [],
   "source": []
  },
  {
   "cell_type": "code",
   "execution_count": null,
   "metadata": {},
   "outputs": [],
   "source": []
  },
  {
   "cell_type": "code",
   "execution_count": null,
   "metadata": {},
   "outputs": [],
   "source": []
  },
  {
   "cell_type": "code",
   "execution_count": null,
   "metadata": {},
   "outputs": [],
   "source": []
  },
  {
   "cell_type": "code",
   "execution_count": null,
   "metadata": {},
   "outputs": [],
   "source": []
  },
  {
   "cell_type": "code",
   "execution_count": 140,
   "metadata": {
    "ExecuteTime": {
     "end_time": "2020-08-13T07:27:17.712215Z",
     "start_time": "2020-08-13T07:27:17.682894Z"
    }
   },
   "outputs": [],
   "source": [
    "my_pred = new_preds.copy().set_index(\"image_name\")\n",
    "my_pred[\"target\"] = (my_pred[\"target\"] - my_pred[\"target\"].mean()) / my_pred[\"target\"].std()\n",
    "\n",
    "my_pred[\"target\"] = (my_pred[\"target\"] - my_pred[\"target\"].min()) / (my_pred[\"target\"].max() - my_pred[\"target\"].min())\n",
    "my_pred[\"target\"] **=2\n",
    "\n",
    "sub_9581 = pd.read_csv(\"../output/submission9581.csv\", index_col=\"image_name\")"
   ]
  },
  {
   "cell_type": "code",
   "execution_count": 143,
   "metadata": {
    "ExecuteTime": {
     "end_time": "2020-08-13T07:27:36.457433Z",
     "start_time": "2020-08-13T07:27:36.296375Z"
    }
   },
   "outputs": [
    {
     "data": {
      "text/plain": [
       "[<matplotlib.lines.Line2D at 0x2b1a5227acf8>]"
      ]
     },
     "execution_count": 143,
     "metadata": {},
     "output_type": "execute_result"
    },
    {
     "data": {
      "image/png": "[encoded data removed]",
      "text/plain": [
       "<Figure size 432x288 with 1 Axes>"
      ]
     },
     "metadata": {
      "needs_background": "light"
     },
     "output_type": "display_data"
    }
   ],
   "source": [
    "plt.plot(sub_9581[\"target\"].values)\n",
    "plt.plot(my_pred[\"target\"].values)"
   ]
  },
  {
   "cell_type": "code",
   "execution_count": 148,
   "metadata": {
    "ExecuteTime": {
     "end_time": "2020-08-13T07:29:48.745936Z",
     "start_time": "2020-08-13T07:29:48.710947Z"
    }
   },
   "outputs": [],
   "source": [
    "((my_pred[\"target\"] * 0.1) + (sub_9581[\"target\"] * 0.9)).to_csv(\"../output/submission.csv\")"
   ]
  }
 ],
 "metadata": {
  "kernelspec": {
   "display_name": "Python 3",
   "language": "python",
   "name": "python3"
  },
  "language_info": {
   "codemirror_mode": {
    "name": "ipython",
    "version": 3
   },
   "file_extension": ".py",
   "mimetype": "text/x-python",
   "name": "python",
   "nbconvert_exporter": "python",
   "pygments_lexer": "ipython3",
   "version": "3.6.8"
  }
 },
 "nbformat": 4,
 "nbformat_minor": 4
}
